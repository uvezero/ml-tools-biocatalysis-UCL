{
 "cells": [
  {
   "cell_type": "code",
   "execution_count": 1,
   "metadata": {},
   "outputs": [
    {
     "name": "stderr",
     "output_type": "stream",
     "text": [
      "2024-03-27 13:58:51.013191: I tensorflow/core/util/port.cc:113] oneDNN custom operations are on. You may see slightly different numerical results due to floating-point round-off errors from different computation orders. To turn them off, set the environment variable `TF_ENABLE_ONEDNN_OPTS=0`.\n",
      "2024-03-27 13:58:51.123323: I tensorflow/core/platform/cpu_feature_guard.cc:210] This TensorFlow binary is optimized to use available CPU instructions in performance-critical operations.\n",
      "To enable the following instructions: AVX2 AVX_VNNI FMA, in other operations, rebuild TensorFlow with the appropriate compiler flags.\n",
      "2024-03-27 13:58:51.986216: W tensorflow/compiler/tf2tensorrt/utils/py_utils.cc:38] TF-TRT Warning: Could not find TensorRT\n"
     ]
    }
   ],
   "source": [
    "import sys\n",
    "import random\n",
    "import numpy as np\n",
    "import pandas as pd\n",
    "import matplotlib.pyplot as plt\n",
    "import seaborn as sns\n",
    "from sklearn.model_selection import cross_val_score, train_test_split, KFold\n",
    "from sklearn.ensemble import RandomForestRegressor\n",
    "from sklearn.metrics import r2_score, mean_squared_error\n",
    "from sklearn.preprocessing import StandardScaler\n",
    "from sklearn import model_selection\n",
    "from scipy.stats import pearsonr\n",
    "import tensorflow as tf\n",
    "import torch\n",
    "import torchvision\n",
    "sys.path.append('/home/juan/Documents/Master_Project/code/my_work/Testing-Algorithms/')\n",
    "from rf_improved2_copy import TorchRandomForestRegressor\n",
    "from tqdm import tqdm\n",
    "from math import sqrt\n",
    "import warnings\n",
    "from sklearn.exceptions import DataConversionWarning\n"
   ]
  },
  {
   "cell_type": "code",
   "execution_count": 2,
   "metadata": {},
   "outputs": [
    {
     "data": {
      "text/html": [
       "<div>\n",
       "<style scoped>\n",
       "    .dataframe tbody tr th:only-of-type {\n",
       "        vertical-align: middle;\n",
       "    }\n",
       "\n",
       "    .dataframe tbody tr th {\n",
       "        vertical-align: top;\n",
       "    }\n",
       "\n",
       "    .dataframe thead th {\n",
       "        text-align: right;\n",
       "    }\n",
       "</style>\n",
       "<table border=\"1\" class=\"dataframe\">\n",
       "  <thead>\n",
       "    <tr style=\"text-align: right;\">\n",
       "      <th></th>\n",
       "      <th>661</th>\n",
       "      <th>666</th>\n",
       "      <th>156</th>\n",
       "      <th>444</th>\n",
       "      <th>705</th>\n",
       "      <th>407</th>\n",
       "      <th>807</th>\n",
       "      <th>650</th>\n",
       "      <th>356</th>\n",
       "      <th>699</th>\n",
       "      <th>...</th>\n",
       "      <th>Box_26</th>\n",
       "      <th>Box_33</th>\n",
       "      <th>Box_34</th>\n",
       "      <th>Box_46</th>\n",
       "      <th>Box_50</th>\n",
       "      <th>Box_51</th>\n",
       "      <th>Total Charge</th>\n",
       "      <th>internal_vdw_energy</th>\n",
       "      <th>Folder</th>\n",
       "      <th>QM/MM SP Barrier</th>\n",
       "    </tr>\n",
       "  </thead>\n",
       "  <tbody>\n",
       "    <tr>\n",
       "      <th>0</th>\n",
       "      <td>0</td>\n",
       "      <td>0</td>\n",
       "      <td>1</td>\n",
       "      <td>1</td>\n",
       "      <td>0</td>\n",
       "      <td>0</td>\n",
       "      <td>1</td>\n",
       "      <td>1</td>\n",
       "      <td>2</td>\n",
       "      <td>0</td>\n",
       "      <td>...</td>\n",
       "      <td>-0.241552</td>\n",
       "      <td>0.0</td>\n",
       "      <td>0.0</td>\n",
       "      <td>0.000000</td>\n",
       "      <td>-0.758976</td>\n",
       "      <td>-1.007604</td>\n",
       "      <td>1.000009</td>\n",
       "      <td>2.925351</td>\n",
       "      <td>mol_134810</td>\n",
       "      <td>29.71</td>\n",
       "    </tr>\n",
       "    <tr>\n",
       "      <th>1</th>\n",
       "      <td>0</td>\n",
       "      <td>0</td>\n",
       "      <td>0</td>\n",
       "      <td>0</td>\n",
       "      <td>0</td>\n",
       "      <td>1</td>\n",
       "      <td>0</td>\n",
       "      <td>0</td>\n",
       "      <td>5</td>\n",
       "      <td>0</td>\n",
       "      <td>...</td>\n",
       "      <td>0.000000</td>\n",
       "      <td>0.0</td>\n",
       "      <td>0.0</td>\n",
       "      <td>-0.056827</td>\n",
       "      <td>-0.020914</td>\n",
       "      <td>-0.183128</td>\n",
       "      <td>-0.000017</td>\n",
       "      <td>-4.432160</td>\n",
       "      <td>mol_147462</td>\n",
       "      <td>28.33</td>\n",
       "    </tr>\n",
       "    <tr>\n",
       "      <th>2</th>\n",
       "      <td>0</td>\n",
       "      <td>0</td>\n",
       "      <td>0</td>\n",
       "      <td>0</td>\n",
       "      <td>0</td>\n",
       "      <td>0</td>\n",
       "      <td>1</td>\n",
       "      <td>2</td>\n",
       "      <td>4</td>\n",
       "      <td>0</td>\n",
       "      <td>...</td>\n",
       "      <td>-1.176918</td>\n",
       "      <td>0.0</td>\n",
       "      <td>0.0</td>\n",
       "      <td>-0.249862</td>\n",
       "      <td>-0.349354</td>\n",
       "      <td>0.000000</td>\n",
       "      <td>0.000008</td>\n",
       "      <td>-5.104365</td>\n",
       "      <td>mol_22419</td>\n",
       "      <td>28.28</td>\n",
       "    </tr>\n",
       "    <tr>\n",
       "      <th>3</th>\n",
       "      <td>0</td>\n",
       "      <td>0</td>\n",
       "      <td>0</td>\n",
       "      <td>0</td>\n",
       "      <td>0</td>\n",
       "      <td>1</td>\n",
       "      <td>1</td>\n",
       "      <td>1</td>\n",
       "      <td>2</td>\n",
       "      <td>0</td>\n",
       "      <td>...</td>\n",
       "      <td>0.096336</td>\n",
       "      <td>0.0</td>\n",
       "      <td>0.0</td>\n",
       "      <td>0.000000</td>\n",
       "      <td>-0.883456</td>\n",
       "      <td>0.819872</td>\n",
       "      <td>-0.000009</td>\n",
       "      <td>-3.150597</td>\n",
       "      <td>mol_469</td>\n",
       "      <td>22.72</td>\n",
       "    </tr>\n",
       "    <tr>\n",
       "      <th>4</th>\n",
       "      <td>1</td>\n",
       "      <td>0</td>\n",
       "      <td>0</td>\n",
       "      <td>0</td>\n",
       "      <td>0</td>\n",
       "      <td>0</td>\n",
       "      <td>1</td>\n",
       "      <td>1</td>\n",
       "      <td>3</td>\n",
       "      <td>1</td>\n",
       "      <td>...</td>\n",
       "      <td>0.026424</td>\n",
       "      <td>0.0</td>\n",
       "      <td>0.0</td>\n",
       "      <td>0.000000</td>\n",
       "      <td>0.662524</td>\n",
       "      <td>-1.430314</td>\n",
       "      <td>0.999997</td>\n",
       "      <td>-2.510429</td>\n",
       "      <td>mol_67286</td>\n",
       "      <td>25.81</td>\n",
       "    </tr>\n",
       "  </tbody>\n",
       "</table>\n",
       "<p>5 rows × 739 columns</p>\n",
       "</div>"
      ],
      "text/plain": [
       "   661  666  156  444  705  407  807  650  356  699  ...    Box_26  Box_33  \\\n",
       "0    0    0    1    1    0    0    1    1    2    0  ... -0.241552     0.0   \n",
       "1    0    0    0    0    0    1    0    0    5    0  ...  0.000000     0.0   \n",
       "2    0    0    0    0    0    0    1    2    4    0  ... -1.176918     0.0   \n",
       "3    0    0    0    0    0    1    1    1    2    0  ...  0.096336     0.0   \n",
       "4    1    0    0    0    0    0    1    1    3    1  ...  0.026424     0.0   \n",
       "\n",
       "   Box_34    Box_46    Box_50    Box_51  Total Charge  internal_vdw_energy  \\\n",
       "0     0.0  0.000000 -0.758976 -1.007604      1.000009             2.925351   \n",
       "1     0.0 -0.056827 -0.020914 -0.183128     -0.000017            -4.432160   \n",
       "2     0.0 -0.249862 -0.349354  0.000000      0.000008            -5.104365   \n",
       "3     0.0  0.000000 -0.883456  0.819872     -0.000009            -3.150597   \n",
       "4     0.0  0.000000  0.662524 -1.430314      0.999997            -2.510429   \n",
       "\n",
       "       Folder  QM/MM SP Barrier  \n",
       "0  mol_134810             29.71  \n",
       "1  mol_147462             28.33  \n",
       "2   mol_22419             28.28  \n",
       "3     mol_469             22.72  \n",
       "4   mol_67286             25.81  \n",
       "\n",
       "[5 rows x 739 columns]"
      ]
     },
     "execution_count": 2,
     "metadata": {},
     "output_type": "execute_result"
    }
   ],
   "source": [
    "\n",
    "\n",
    "data1 =pd.read_csv('data1.csv')\n",
    "data9 = pd.read_csv('data_1_test.csv')\n",
    "\n",
    "df_1 = data1.iloc[:, 1:]\n",
    "df_9 = data9.iloc[:,1:]\n",
    "\n",
    "columns = df_1.columns.tolist()\n",
    "\n",
    "columns.remove(\"Folder\")\n",
    "columns.remove(\"QM/MM SP Barrier\")\n",
    "\n",
    "new_columns_order = columns + [\"Folder\", \"QM/MM SP Barrier\"]\n",
    "\n",
    "df_1 = df_1.reindex(columns=new_columns_order)\n",
    "df_1.head()"
   ]
  },
  {
   "cell_type": "code",
   "execution_count": 3,
   "metadata": {},
   "outputs": [
    {
     "data": {
      "text/html": [
       "<div>\n",
       "<style scoped>\n",
       "    .dataframe tbody tr th:only-of-type {\n",
       "        vertical-align: middle;\n",
       "    }\n",
       "\n",
       "    .dataframe tbody tr th {\n",
       "        vertical-align: top;\n",
       "    }\n",
       "\n",
       "    .dataframe thead th {\n",
       "        text-align: right;\n",
       "    }\n",
       "</style>\n",
       "<table border=\"1\" class=\"dataframe\">\n",
       "  <thead>\n",
       "    <tr style=\"text-align: right;\">\n",
       "      <th></th>\n",
       "      <th>nBondsD</th>\n",
       "      <th>nBonds2</th>\n",
       "      <th>nBondsT</th>\n",
       "      <th>nBondsM</th>\n",
       "      <th>pubchemcomplexity</th>\n",
       "      <th>pubchemhbondacceptor</th>\n",
       "      <th>pubchemhbonddonor</th>\n",
       "      <th>pubchemrotbon</th>\n",
       "      <th>pubchemlogp</th>\n",
       "      <th>pubchemmass</th>\n",
       "      <th>...</th>\n",
       "      <th>hp_Atom_31</th>\n",
       "      <th>hp_Atom_32</th>\n",
       "      <th>hp_Atom_33</th>\n",
       "      <th>hp_Atom_34</th>\n",
       "      <th>hp_Atom_35</th>\n",
       "      <th>hp_Atom_36</th>\n",
       "      <th>hp_Atom_37</th>\n",
       "      <th>hp_Atom_38</th>\n",
       "      <th>Folder</th>\n",
       "      <th>QM/MM SP Barrier</th>\n",
       "    </tr>\n",
       "  </thead>\n",
       "  <tbody>\n",
       "    <tr>\n",
       "      <th>0</th>\n",
       "      <td>1</td>\n",
       "      <td>11</td>\n",
       "      <td>0</td>\n",
       "      <td>11</td>\n",
       "      <td>0.39820</td>\n",
       "      <td>5</td>\n",
       "      <td>2</td>\n",
       "      <td>4</td>\n",
       "      <td>0.39820</td>\n",
       "      <td>285.371</td>\n",
       "      <td>...</td>\n",
       "      <td>0.0</td>\n",
       "      <td>0.0</td>\n",
       "      <td>0.0</td>\n",
       "      <td>0.0</td>\n",
       "      <td>0.0</td>\n",
       "      <td>0.0</td>\n",
       "      <td>0.0</td>\n",
       "      <td>0.0</td>\n",
       "      <td>mol_134810</td>\n",
       "      <td>29.71</td>\n",
       "    </tr>\n",
       "    <tr>\n",
       "      <th>1</th>\n",
       "      <td>0</td>\n",
       "      <td>14</td>\n",
       "      <td>0</td>\n",
       "      <td>12</td>\n",
       "      <td>3.35790</td>\n",
       "      <td>4</td>\n",
       "      <td>0</td>\n",
       "      <td>3</td>\n",
       "      <td>3.35790</td>\n",
       "      <td>309.413</td>\n",
       "      <td>...</td>\n",
       "      <td>0.0</td>\n",
       "      <td>0.0</td>\n",
       "      <td>0.0</td>\n",
       "      <td>0.0</td>\n",
       "      <td>0.0</td>\n",
       "      <td>0.0</td>\n",
       "      <td>0.0</td>\n",
       "      <td>0.0</td>\n",
       "      <td>mol_147462</td>\n",
       "      <td>28.33</td>\n",
       "    </tr>\n",
       "    <tr>\n",
       "      <th>2</th>\n",
       "      <td>2</td>\n",
       "      <td>14</td>\n",
       "      <td>0</td>\n",
       "      <td>11</td>\n",
       "      <td>1.79150</td>\n",
       "      <td>6</td>\n",
       "      <td>1</td>\n",
       "      <td>7</td>\n",
       "      <td>1.79150</td>\n",
       "      <td>340.427</td>\n",
       "      <td>...</td>\n",
       "      <td>0.0</td>\n",
       "      <td>0.0</td>\n",
       "      <td>0.0</td>\n",
       "      <td>0.0</td>\n",
       "      <td>0.0</td>\n",
       "      <td>0.0</td>\n",
       "      <td>0.0</td>\n",
       "      <td>0.0</td>\n",
       "      <td>mol_22419</td>\n",
       "      <td>28.28</td>\n",
       "    </tr>\n",
       "    <tr>\n",
       "      <th>3</th>\n",
       "      <td>1</td>\n",
       "      <td>16</td>\n",
       "      <td>1</td>\n",
       "      <td>6</td>\n",
       "      <td>1.46888</td>\n",
       "      <td>6</td>\n",
       "      <td>0</td>\n",
       "      <td>6</td>\n",
       "      <td>1.46888</td>\n",
       "      <td>316.405</td>\n",
       "      <td>...</td>\n",
       "      <td>0.0</td>\n",
       "      <td>0.0</td>\n",
       "      <td>0.0</td>\n",
       "      <td>0.0</td>\n",
       "      <td>0.0</td>\n",
       "      <td>0.0</td>\n",
       "      <td>0.0</td>\n",
       "      <td>0.0</td>\n",
       "      <td>mol_469</td>\n",
       "      <td>22.72</td>\n",
       "    </tr>\n",
       "    <tr>\n",
       "      <th>4</th>\n",
       "      <td>1</td>\n",
       "      <td>12</td>\n",
       "      <td>0</td>\n",
       "      <td>6</td>\n",
       "      <td>-0.04998</td>\n",
       "      <td>4</td>\n",
       "      <td>3</td>\n",
       "      <td>2</td>\n",
       "      <td>-0.04998</td>\n",
       "      <td>252.313</td>\n",
       "      <td>...</td>\n",
       "      <td>0.0</td>\n",
       "      <td>0.0</td>\n",
       "      <td>0.0</td>\n",
       "      <td>0.0</td>\n",
       "      <td>0.0</td>\n",
       "      <td>0.0</td>\n",
       "      <td>0.0</td>\n",
       "      <td>0.0</td>\n",
       "      <td>mol_67286</td>\n",
       "      <td>25.81</td>\n",
       "    </tr>\n",
       "  </tbody>\n",
       "</table>\n",
       "<p>5 rows × 1217 columns</p>\n",
       "</div>"
      ],
      "text/plain": [
       "   nBondsD  nBonds2  nBondsT  nBondsM  pubchemcomplexity  \\\n",
       "0        1       11        0       11            0.39820   \n",
       "1        0       14        0       12            3.35790   \n",
       "2        2       14        0       11            1.79150   \n",
       "3        1       16        1        6            1.46888   \n",
       "4        1       12        0        6           -0.04998   \n",
       "\n",
       "   pubchemhbondacceptor  pubchemhbonddonor  pubchemrotbon  pubchemlogp  \\\n",
       "0                     5                  2              4      0.39820   \n",
       "1                     4                  0              3      3.35790   \n",
       "2                     6                  1              7      1.79150   \n",
       "3                     6                  0              6      1.46888   \n",
       "4                     4                  3              2     -0.04998   \n",
       "\n",
       "   pubchemmass  ...  hp_Atom_31  hp_Atom_32  hp_Atom_33  hp_Atom_34  \\\n",
       "0      285.371  ...         0.0         0.0         0.0         0.0   \n",
       "1      309.413  ...         0.0         0.0         0.0         0.0   \n",
       "2      340.427  ...         0.0         0.0         0.0         0.0   \n",
       "3      316.405  ...         0.0         0.0         0.0         0.0   \n",
       "4      252.313  ...         0.0         0.0         0.0         0.0   \n",
       "\n",
       "   hp_Atom_35  hp_Atom_36  hp_Atom_37  hp_Atom_38      Folder  \\\n",
       "0         0.0         0.0         0.0         0.0  mol_134810   \n",
       "1         0.0         0.0         0.0         0.0  mol_147462   \n",
       "2         0.0         0.0         0.0         0.0   mol_22419   \n",
       "3         0.0         0.0         0.0         0.0     mol_469   \n",
       "4         0.0         0.0         0.0         0.0   mol_67286   \n",
       "\n",
       "   QM/MM SP Barrier  \n",
       "0             29.71  \n",
       "1             28.33  \n",
       "2             28.28  \n",
       "3             22.72  \n",
       "4             25.81  \n",
       "\n",
       "[5 rows x 1217 columns]"
      ]
     },
     "execution_count": 3,
     "metadata": {},
     "output_type": "execute_result"
    }
   ],
   "source": [
    "df = pd.read_csv('/home/juan/Documents/Master_Project/data/process/final_selection/All_feats_newC_hp_atoms.csv')\n",
    "df = df.iloc[:,1:]\n",
    "df.head()"
   ]
  },
  {
   "cell_type": "code",
   "execution_count": 4,
   "metadata": {},
   "outputs": [
    {
     "data": {
      "text/html": [
       "<div>\n",
       "<style scoped>\n",
       "    .dataframe tbody tr th:only-of-type {\n",
       "        vertical-align: middle;\n",
       "    }\n",
       "\n",
       "    .dataframe tbody tr th {\n",
       "        vertical-align: top;\n",
       "    }\n",
       "\n",
       "    .dataframe thead th {\n",
       "        text-align: right;\n",
       "    }\n",
       "</style>\n",
       "<table border=\"1\" class=\"dataframe\">\n",
       "  <thead>\n",
       "    <tr style=\"text-align: right;\">\n",
       "      <th></th>\n",
       "      <th>0</th>\n",
       "      <th>1</th>\n",
       "      <th>2</th>\n",
       "      <th>3</th>\n",
       "      <th>4</th>\n",
       "      <th>5</th>\n",
       "      <th>6</th>\n",
       "      <th>7</th>\n",
       "      <th>8</th>\n",
       "      <th>9</th>\n",
       "      <th>...</th>\n",
       "      <th>resid 120</th>\n",
       "      <th>resid 119</th>\n",
       "      <th>resid 146</th>\n",
       "      <th>resid 145</th>\n",
       "      <th>resid 147</th>\n",
       "      <th>resid 786</th>\n",
       "      <th>resid 61</th>\n",
       "      <th>resid 29</th>\n",
       "      <th>Folder</th>\n",
       "      <th>QM/MM SP Barrier</th>\n",
       "    </tr>\n",
       "  </thead>\n",
       "  <tbody>\n",
       "    <tr>\n",
       "      <th>1092</th>\n",
       "      <td>0</td>\n",
       "      <td>0</td>\n",
       "      <td>0</td>\n",
       "      <td>0</td>\n",
       "      <td>0</td>\n",
       "      <td>0</td>\n",
       "      <td>0</td>\n",
       "      <td>0</td>\n",
       "      <td>0</td>\n",
       "      <td>0</td>\n",
       "      <td>...</td>\n",
       "      <td>19.635709</td>\n",
       "      <td>22.622308</td>\n",
       "      <td>19.836394</td>\n",
       "      <td>20.933459</td>\n",
       "      <td>22.265739</td>\n",
       "      <td>15.378876</td>\n",
       "      <td>5.409570</td>\n",
       "      <td>20.505763</td>\n",
       "      <td>mol_178096</td>\n",
       "      <td>21.45</td>\n",
       "    </tr>\n",
       "    <tr>\n",
       "      <th>1093</th>\n",
       "      <td>0</td>\n",
       "      <td>0</td>\n",
       "      <td>0</td>\n",
       "      <td>0</td>\n",
       "      <td>0</td>\n",
       "      <td>0</td>\n",
       "      <td>0</td>\n",
       "      <td>0</td>\n",
       "      <td>0</td>\n",
       "      <td>0</td>\n",
       "      <td>...</td>\n",
       "      <td>18.754397</td>\n",
       "      <td>22.329591</td>\n",
       "      <td>19.444639</td>\n",
       "      <td>20.593992</td>\n",
       "      <td>21.991518</td>\n",
       "      <td>15.392180</td>\n",
       "      <td>4.830849</td>\n",
       "      <td>20.268452</td>\n",
       "      <td>mol_178159</td>\n",
       "      <td>27.00</td>\n",
       "    </tr>\n",
       "    <tr>\n",
       "      <th>1094</th>\n",
       "      <td>0</td>\n",
       "      <td>0</td>\n",
       "      <td>0</td>\n",
       "      <td>0</td>\n",
       "      <td>0</td>\n",
       "      <td>0</td>\n",
       "      <td>0</td>\n",
       "      <td>0</td>\n",
       "      <td>0</td>\n",
       "      <td>0</td>\n",
       "      <td>...</td>\n",
       "      <td>17.451327</td>\n",
       "      <td>21.067321</td>\n",
       "      <td>18.741670</td>\n",
       "      <td>19.913888</td>\n",
       "      <td>20.867617</td>\n",
       "      <td>13.842437</td>\n",
       "      <td>3.824708</td>\n",
       "      <td>18.920998</td>\n",
       "      <td>mol_178160</td>\n",
       "      <td>29.97</td>\n",
       "    </tr>\n",
       "    <tr>\n",
       "      <th>1095</th>\n",
       "      <td>0</td>\n",
       "      <td>0</td>\n",
       "      <td>0</td>\n",
       "      <td>0</td>\n",
       "      <td>0</td>\n",
       "      <td>0</td>\n",
       "      <td>0</td>\n",
       "      <td>0</td>\n",
       "      <td>0</td>\n",
       "      <td>0</td>\n",
       "      <td>...</td>\n",
       "      <td>19.142024</td>\n",
       "      <td>22.027824</td>\n",
       "      <td>19.150536</td>\n",
       "      <td>20.300864</td>\n",
       "      <td>21.613279</td>\n",
       "      <td>15.685708</td>\n",
       "      <td>5.110045</td>\n",
       "      <td>19.831135</td>\n",
       "      <td>mol_178411</td>\n",
       "      <td>28.04</td>\n",
       "    </tr>\n",
       "    <tr>\n",
       "      <th>1096</th>\n",
       "      <td>0</td>\n",
       "      <td>0</td>\n",
       "      <td>0</td>\n",
       "      <td>0</td>\n",
       "      <td>0</td>\n",
       "      <td>0</td>\n",
       "      <td>0</td>\n",
       "      <td>0</td>\n",
       "      <td>0</td>\n",
       "      <td>0</td>\n",
       "      <td>...</td>\n",
       "      <td>19.653265</td>\n",
       "      <td>22.952895</td>\n",
       "      <td>20.551297</td>\n",
       "      <td>21.449449</td>\n",
       "      <td>22.798516</td>\n",
       "      <td>16.306594</td>\n",
       "      <td>5.876727</td>\n",
       "      <td>21.242883</td>\n",
       "      <td>mol_178649</td>\n",
       "      <td>25.78</td>\n",
       "    </tr>\n",
       "  </tbody>\n",
       "</table>\n",
       "<p>5 rows × 1051 columns</p>\n",
       "</div>"
      ],
      "text/plain": [
       "      0  1  2  3  4  5  6  7  8  9  ...  resid 120  resid 119  resid 146  \\\n",
       "1092  0  0  0  0  0  0  0  0  0  0  ...  19.635709  22.622308  19.836394   \n",
       "1093  0  0  0  0  0  0  0  0  0  0  ...  18.754397  22.329591  19.444639   \n",
       "1094  0  0  0  0  0  0  0  0  0  0  ...  17.451327  21.067321  18.741670   \n",
       "1095  0  0  0  0  0  0  0  0  0  0  ...  19.142024  22.027824  19.150536   \n",
       "1096  0  0  0  0  0  0  0  0  0  0  ...  19.653265  22.952895  20.551297   \n",
       "\n",
       "      resid 145  resid 147  resid 786  resid 61   resid 29      Folder  \\\n",
       "1092  20.933459  22.265739  15.378876  5.409570  20.505763  mol_178096   \n",
       "1093  20.593992  21.991518  15.392180  4.830849  20.268452  mol_178159   \n",
       "1094  19.913888  20.867617  13.842437  3.824708  18.920998  mol_178160   \n",
       "1095  20.300864  21.613279  15.685708  5.110045  19.831135  mol_178411   \n",
       "1096  21.449449  22.798516  16.306594  5.876727  21.242883  mol_178649   \n",
       "\n",
       "      QM/MM SP Barrier  \n",
       "1092             21.45  \n",
       "1093             27.00  \n",
       "1094             29.97  \n",
       "1095             28.04  \n",
       "1096             25.78  \n",
       "\n",
       "[5 rows x 1051 columns]"
      ]
     },
     "execution_count": 4,
     "metadata": {},
     "output_type": "execute_result"
    }
   ],
   "source": [
    "import pandas as pd\n",
    "\n",
    "dataset_initial = pd.read_csv('dataset.csv')\n",
    "\n",
    "df00 = dataset_initial.iloc[:, 1:]\n",
    "\n",
    "df00.drop(columns='total_charge', inplace=True)\n",
    "\n",
    "df00.tail()\n"
   ]
  },
  {
   "cell_type": "markdown",
   "metadata": {},
   "source": [
    "## Common functions"
   ]
  },
  {
   "cell_type": "code",
   "execution_count": 5,
   "metadata": {},
   "outputs": [],
   "source": [
    "def preprocess_data_manual_no_split(df, use_torch):\n",
    "    X = df.drop(columns=['QM/MM SP Barrier', 'Folder']).values\n",
    "    Y = df['QM/MM SP Barrier'].values\n",
    "    ss = StandardScaler()\n",
    "    Y_reshaped = Y.reshape(-1, 1)\n",
    "    Y_normalized = ss.fit_transform(Y_reshaped)\n",
    "    if use_torch:\n",
    "        X = torch.tensor(X, dtype=torch.float32)\n",
    "        Y_normalized = torch.tensor(Y_normalized, dtype=torch.float32).flatten()\n",
    "    return X, Y_normalized, ss\n",
    "\n",
    "def mean_deviation_from_true_mean(y_true, y_pred):\n",
    "    \"\"\"\n",
    "    Calculates the mean of the absolute deviations of predicted values from the mean of true values.\n",
    "\n",
    "    :param y_true: array-like, true values.\n",
    "    :param y_pred: array-like, predicted values.\n",
    "    :return: float, mean deviation from the true mean.\n",
    "    \"\"\"\n",
    "    true_mean = np.mean(y_true)\n",
    "    deviations = np.abs(y_pred - true_mean)\n",
    "    mean_deviation = np.mean(deviations)\n",
    "    return mean_deviation"
   ]
  },
  {
   "cell_type": "markdown",
   "metadata": {},
   "source": [
    "# RF (sklearn)"
   ]
  },
  {
   "cell_type": "code",
   "execution_count": 6,
   "metadata": {},
   "outputs": [],
   "source": [
    "from sklearn.metrics import mean_absolute_error, r2_score\n",
    "from sklearn.metrics import mean_squared_error, mean_absolute_error, r2_score\n",
    "from scipy.stats import pearsonr\n",
    "import numpy as np\n",
    "from sklearn.model_selection import KFold\n",
    "from sklearn.ensemble import RandomForestRegressor\n",
    "import warnings\n",
    "from tqdm import tqdm\n",
    "\n",
    "def cross_validate_with_blind_set(X, y, X_blind, y_blind=None, n_splits=10, use_torch=False):\n",
    "    kf = KFold(n_splits=n_splits, shuffle=True, random_state=42)\n",
    "    rmse_scores, mae_scores, variance_scores, r2_scores, pearson_corr_scores, deviations = [], [], [], [], [], []\n",
    "    \n",
    "    for train_index, test_index in tqdm(kf.split(X), total=n_splits, desc=\"Cross-Validation\"):\n",
    "        X_train, X_test = X[train_index], X[test_index]\n",
    "        y_train, y_test = y[train_index], y[test_index]\n",
    "        \n",
    "        # Model initialization\n",
    "        if use_torch:\n",
    "            model = TorchRandomForestRegressor(nb_trees=8, nb_samples=40, max_depth=200, bootstrap=True)\n",
    "        else:\n",
    "            model = RandomForestRegressor(\n",
    "                n_estimators=160,\n",
    "                criterion=\"squared_error\",\n",
    "                max_depth=30,\n",
    "                min_samples_split=2,\n",
    "                min_samples_leaf=1,\n",
    "                max_features=0.8,\n",
    "                bootstrap=True,\n",
    "                oob_score=True,\n",
    "                n_jobs=-1,\n",
    "                random_state=40,\n",
    "                ccp_alpha=0.00,\n",
    "                max_samples=None,\n",
    "                monotonic_cst=None)\n",
    "        \n",
    "        # Fit the model\n",
    "        model.fit(X_train, y_train.ravel())\n",
    "        y_pred = model.predict(X_test).flatten()\n",
    "        y_test = y_test.flatten()  # Ensure y_test is flattened\n",
    "\n",
    "        # Calculate metrics\n",
    "        rmse = np.sqrt(mean_squared_error(y_test, y_pred))\n",
    "        mae = mean_absolute_error(y_test, y_pred)\n",
    "        variance = np.var(y_test - y_pred)\n",
    "        r2 = r2_score(y_test, y_pred)\n",
    "        pearson_corr = pearsonr(y_test, y_pred)[0]  # Ensure both are flattened\n",
    "        deviation = mean_deviation_from_true_mean(y_test, y_pred)\n",
    "        \n",
    "        rmse_scores.append(rmse)\n",
    "        mae_scores.append(mae)\n",
    "        variance_scores.append(variance)\n",
    "        r2_scores.append(r2)\n",
    "        pearson_corr_scores.append(pearson_corr)\n",
    "        deviations.append(deviation)\n",
    "\n",
    "    # Calculate mean of collected scores\n",
    "    mean_rmse = np.mean(rmse_scores)\n",
    "    mean_mae = np.mean(mae_scores)\n",
    "    mean_variance = np.mean(variance_scores)\n",
    "    mean_r2 = np.mean(r2_scores)\n",
    "    mean_pearson_corr = np.mean(pearson_corr_scores)\n",
    "    mean_deviation = np.mean(deviations)\n",
    "\n",
    "\n",
    "    return mean_rmse, mean_pearson_corr, mean_deviation, mean_r2, mean_variance, mean_mae\n",
    "\n",
    "def complete_analysis_pipeline(df, title, use_torch=False):\n",
    "    X, Y_normalized, ss = preprocess_data_manual_no_split(df, use_torch)\n",
    "    train_percentage = 0.99\n",
    "    n_samples = len(X)\n",
    "    n_train_samples = int(train_percentage * n_samples)\n",
    "    X_train, Y_train = X[:n_train_samples], Y_normalized[:n_train_samples]\n",
    "    X_blind, Y_blind = X[n_train_samples:], Y_normalized[n_train_samples:]\n",
    "\n",
    "    mean_rmse, mean_pearson_corr, mean_deviation, mean_r2, mean_variance, mean_mae = cross_validate_with_blind_set(X_train, Y_train, X_blind, Y_blind, use_torch=use_torch)\n",
    "    print(mean_rmse, mean_pearson_corr, mean_deviation, mean_r2, mean_variance, mean_mae)\n"
   ]
  },
  {
   "cell_type": "code",
   "execution_count": 7,
   "metadata": {},
   "outputs": [
    {
     "name": "stderr",
     "output_type": "stream",
     "text": [
      "Cross-Validation:   0%|          | 0/10 [00:00<?, ?it/s]"
     ]
    },
    {
     "name": "stderr",
     "output_type": "stream",
     "text": [
      "Cross-Validation: 100%|██████████| 10/10 [00:40<00:00,  4.07s/it]"
     ]
    },
    {
     "name": "stdout",
     "output_type": "stream",
     "text": [
      "0.9182877574361046 0.4101920920534986 0.41547360002274936 0.15597504650369887 0.8441062947325942 0.674351020676687\n"
     ]
    },
    {
     "name": "stderr",
     "output_type": "stream",
     "text": [
      "\n"
     ]
    }
   ],
   "source": [
    "complete_analysis_pipeline(df_1, ' ', use_torch=False)"
   ]
  },
  {
   "cell_type": "code",
   "execution_count": 8,
   "metadata": {},
   "outputs": [
    {
     "name": "stderr",
     "output_type": "stream",
     "text": [
      "Cross-Validation: 100%|██████████| 10/10 [00:05<00:00,  1.67it/s]"
     ]
    },
    {
     "name": "stdout",
     "output_type": "stream",
     "text": [
      "0.9782638619032505 0.2646721537406801 0.3303770430952365 0.036489566116692504 0.9507574306334888 0.7587205851508054\n"
     ]
    },
    {
     "name": "stderr",
     "output_type": "stream",
     "text": [
      "\n"
     ]
    }
   ],
   "source": [
    "complete_analysis_pipeline(df00, ' ', use_torch=False)"
   ]
  },
  {
   "cell_type": "code",
   "execution_count": 9,
   "metadata": {},
   "outputs": [
    {
     "name": "stderr",
     "output_type": "stream",
     "text": [
      "Cross-Validation: 100%|██████████| 10/10 [00:26<00:00,  2.63s/it]"
     ]
    },
    {
     "name": "stdout",
     "output_type": "stream",
     "text": [
      "0.9183418115336476 0.4108413030166854 0.42115689104229437 0.1557974904990413 0.8439591113517139 0.675380018316474\n"
     ]
    },
    {
     "name": "stderr",
     "output_type": "stream",
     "text": [
      "\n"
     ]
    }
   ],
   "source": [
    "complete_analysis_pipeline(df_9, ' ', use_torch=False)"
   ]
  },
  {
   "cell_type": "code",
   "execution_count": 10,
   "metadata": {},
   "outputs": [
    {
     "name": "stderr",
     "output_type": "stream",
     "text": [
      "Cross-Validation:   0%|          | 0/10 [00:00<?, ?it/s]"
     ]
    },
    {
     "name": "stderr",
     "output_type": "stream",
     "text": [
      "Cross-Validation: 100%|██████████| 10/10 [01:30<00:00,  9.08s/it]"
     ]
    },
    {
     "name": "stdout",
     "output_type": "stream",
     "text": [
      "0.9152752316701157 0.41351426977965067 0.4112832718570559 0.16158221913484316 0.838585899656471 0.6710236740221227\n"
     ]
    },
    {
     "name": "stderr",
     "output_type": "stream",
     "text": [
      "\n"
     ]
    }
   ],
   "source": [
    "complete_analysis_pipeline(df, ' ', use_torch=False)"
   ]
  },
  {
   "cell_type": "markdown",
   "metadata": {},
   "source": [
    "# SVR"
   ]
  },
  {
   "cell_type": "code",
   "execution_count": 11,
   "metadata": {},
   "outputs": [],
   "source": [
    "from sklearn.svm import SVR\n",
    "\n",
    "def cross_validate_with_blind_set(X, y, X_blind, y_blind=None, n_splits=10, use_torch=False):\n",
    "    kf = KFold(n_splits=n_splits, shuffle=True, random_state=42)\n",
    "    rmse_scores, mae_scores, variance_scores, r2_scores, pearson_corr_scores, deviations = [], [], [], [], [], []\n",
    "\n",
    "    for train_index, test_index in tqdm(kf.split(X), total=n_splits, desc=\"Cross-Validation\"):\n",
    "        X_train, X_test = X[train_index], X[test_index]\n",
    "        y_train, y_test = y[train_index], y[test_index]\n",
    "        \n",
    "        if use_torch:\n",
    "            pass  # Future implementation\n",
    "        else:\n",
    "            model = SVR(kernel='rbf', degree=3, gamma='scale', coef0=0.0, tol=1e-3,\n",
    "                        C=1.0, epsilon=0.1, shrinking=True, cache_size=200, verbose=False, max_iter=-1)\n",
    "        \n",
    "        # Fit the model\n",
    "        model.fit(X_train, y_train.ravel())\n",
    "        y_pred = model.predict(X_test).flatten()\n",
    "        y_test = y_test.flatten() \n",
    "\n",
    "        # Calculate metrics\n",
    "        rmse = np.sqrt(mean_squared_error(y_test, y_pred))\n",
    "        mae = mean_absolute_error(y_test, y_pred)\n",
    "        variance = np.var(y_test - y_pred)\n",
    "        r2 = r2_score(y_test, y_pred)\n",
    "        pearson_corr = pearsonr(y_test, y_pred)[0]\n",
    "        deviation = mean_deviation_from_true_mean(y_test, y_pred)\n",
    "        \n",
    "        rmse_scores.append(rmse)\n",
    "        mae_scores.append(mae)\n",
    "        variance_scores.append(variance)\n",
    "        r2_scores.append(r2)\n",
    "        pearson_corr_scores.append(pearson_corr)\n",
    "        deviations.append(deviation)\n",
    "\n",
    "    # Calculate and return mean of collected scores\n",
    "    mean_rmse = np.mean(rmse_scores)\n",
    "    mean_mae = np.mean(mae_scores)\n",
    "    mean_variance = np.mean(variance_scores)\n",
    "    mean_r2 = np.mean(r2_scores)\n",
    "    mean_pearson_corr = np.mean(pearson_corr_scores)\n",
    "    mean_deviation = np.mean(deviations)\n",
    "\n",
    "    return mean_rmse, mean_pearson_corr, mean_deviation, mean_r2, mean_variance, mean_mae\n",
    "\n",
    "def complete_analysis_pipeline(df, title, use_torch=False):\n",
    "    X, Y_normalized, ss = preprocess_data_manual_no_split(df, use_torch)\n",
    "    train_percentage = 0.99\n",
    "    n_samples = len(X)\n",
    "    n_train_samples = int(train_percentage * n_samples)\n",
    "    X_train, Y_train = X[:n_train_samples], Y_normalized[:n_train_samples]\n",
    "    X_blind, Y_blind = X[n_train_samples:], Y_normalized[n_train_samples:]\n",
    "\n",
    "    mean_rmse, mean_pearson_corr, mean_deviation, mean_r2, mean_variance, mean_mae = cross_validate_with_blind_set(X_train, Y_train, X_blind, Y_blind, use_torch=use_torch)\n",
    "    print(mean_rmse, mean_pearson_corr, mean_deviation, mean_r2, mean_variance, mean_mae)\n"
   ]
  },
  {
   "cell_type": "code",
   "execution_count": 12,
   "metadata": {},
   "outputs": [
    {
     "name": "stderr",
     "output_type": "stream",
     "text": [
      "Cross-Validation:   0%|          | 0/10 [00:00<?, ?it/s]"
     ]
    },
    {
     "name": "stderr",
     "output_type": "stream",
     "text": [
      "Cross-Validation: 100%|██████████| 10/10 [02:39<00:00, 15.98s/it]"
     ]
    },
    {
     "name": "stdout",
     "output_type": "stream",
     "text": [
      "0.9468217768802687 0.3396696347022214 0.20391694770903518 0.10317280443026053 0.8961143333931865 0.6919297969382504\n"
     ]
    },
    {
     "name": "stderr",
     "output_type": "stream",
     "text": [
      "\n"
     ]
    }
   ],
   "source": [
    "complete_analysis_pipeline(df_1, ' ', use_torch=False)"
   ]
  },
  {
   "cell_type": "code",
   "execution_count": 13,
   "metadata": {},
   "outputs": [
    {
     "name": "stderr",
     "output_type": "stream",
     "text": [
      "Cross-Validation: 100%|██████████| 10/10 [00:02<00:00,  4.45it/s]"
     ]
    },
    {
     "name": "stdout",
     "output_type": "stream",
     "text": [
      "0.9858394163849302 0.20898893618433986 0.13786038909511852 0.02136004445783358 0.960766035009782 0.7616443318093069\n"
     ]
    },
    {
     "name": "stderr",
     "output_type": "stream",
     "text": [
      "\n"
     ]
    }
   ],
   "source": [
    "complete_analysis_pipeline(df00, ' ', use_torch=False)"
   ]
  },
  {
   "cell_type": "code",
   "execution_count": 14,
   "metadata": {},
   "outputs": [
    {
     "name": "stderr",
     "output_type": "stream",
     "text": [
      "Cross-Validation: 100%|██████████| 10/10 [00:32<00:00,  3.27s/it]"
     ]
    },
    {
     "name": "stdout",
     "output_type": "stream",
     "text": [
      "0.9465200640611988 0.34098378693483933 0.20393515426207606 0.10373772811594469 0.8954720306212826 0.6917086287548841\n"
     ]
    },
    {
     "name": "stderr",
     "output_type": "stream",
     "text": [
      "\n"
     ]
    }
   ],
   "source": [
    "complete_analysis_pipeline(df_9, ' ', use_torch=False)"
   ]
  },
  {
   "cell_type": "code",
   "execution_count": 15,
   "metadata": {},
   "outputs": [
    {
     "name": "stderr",
     "output_type": "stream",
     "text": [
      "Cross-Validation:   0%|          | 0/10 [00:00<?, ?it/s]"
     ]
    },
    {
     "name": "stderr",
     "output_type": "stream",
     "text": [
      "Cross-Validation: 100%|██████████| 10/10 [04:25<00:00, 26.52s/it]"
     ]
    },
    {
     "name": "stdout",
     "output_type": "stream",
     "text": [
      "0.9470567115468193 0.3396587398804555 0.20175842575319325 0.10275457934503392 0.8965280943462794 0.6921915241243795\n"
     ]
    },
    {
     "name": "stderr",
     "output_type": "stream",
     "text": [
      "\n"
     ]
    }
   ],
   "source": [
    "complete_analysis_pipeline(df, ' ', use_torch=False)"
   ]
  },
  {
   "cell_type": "markdown",
   "metadata": {},
   "source": [
    "# Torch"
   ]
  },
  {
   "cell_type": "code",
   "execution_count": 16,
   "metadata": {},
   "outputs": [],
   "source": [
    "def cross_validate_with_blind_set(X, y, X_blind, y_blind=None, n_splits=10, use_torch=False):\n",
    "    kf = KFold(n_splits=n_splits, shuffle=True, random_state=42)\n",
    "    metrics_results = {\n",
    "        \"rmse_scores\": [],\n",
    "        \"mae_scores\": [],\n",
    "        \"variance_scores\": [],\n",
    "        \"r2_scores\": [],\n",
    "        \"pearson_corr_scores\": [],\n",
    "        \"deviations\": []\n",
    "    }\n",
    "\n",
    "    # StandardScaler instance\n",
    "    ss = StandardScaler()\n",
    "\n",
    "    for train_index, test_index in tqdm(kf.split(X), total=n_splits, desc=\"Cross-Validation\"):\n",
    "        if use_torch:\n",
    "            # To torch tensors\n",
    "            X_train, X_test = torch.tensor(X[train_index], dtype=torch.float32), torch.tensor(X[test_index], dtype=torch.float32)\n",
    "            y_train, y_test = torch.tensor(y[train_index], dtype=torch.float32).view(-1, 1), torch.tensor(y[test_index], dtype=torch.float32).view(-1, 1)\n",
    "            \n",
    "            # Standardize target values\n",
    "            y_train_np = ss.fit_transform(y_train.numpy())\n",
    "            y_test_np = ss.transform(y_test.numpy())\n",
    "            y_train, y_test = torch.from_numpy(y_train_np), torch.from_numpy(y_test_np)\n",
    "\n",
    "            model = TorchRandomForestRegressor(nb_trees=8, nb_samples=40, max_depth=100, bootstrap=True)\n",
    "            model.fit(X_train, y_train.view(-1))\n",
    "            \n",
    "            # Predict and convert predictions to numpy for metrics calculation\n",
    "            y_pred = [model.predict(torch.FloatTensor(test_vector)) for test_vector in X_test]\n",
    "            y_pred_np = np.array([pred.numpy() for pred in y_pred])\n",
    "            y_test = y_test.numpy().flatten()\n",
    "            \n",
    "    # If y_test is a PyTorch tensor, convert it to a NumPy array\n",
    "    # Ensure y_test is detached from the computation graph and converted\n",
    "    y_test_np = y_test   \n",
    "    rmse = np.sqrt(mean_squared_error(y_test_np, y_pred_np))\n",
    "    mae = mean_absolute_error(y_test_np, y_pred_np)\n",
    "    variance = np.var(y_test_np - y_pred_np)\n",
    "    r2 = r2_score(y_test_np, y_pred_np)\n",
    "    pearson_corr, _ = pearsonr(y_test_np, y_pred_np)\n",
    "    deviation = mean_deviation_from_true_mean(y_test_np, y_pred_np)\n",
    "\n",
    "    metrics_results[\"rmse_scores\"].append(rmse)\n",
    "    metrics_results[\"mae_scores\"].append(mae)\n",
    "    metrics_results[\"variance_scores\"].append(variance)\n",
    "    metrics_results[\"r2_scores\"].append(r2)\n",
    "    metrics_results[\"pearson_corr_scores\"].append(pearson_corr)\n",
    "    metrics_results[\"deviations\"].append(deviation)\n",
    "\n",
    "    # After the loop, aggregate and return the results\n",
    "    mean_rmse = np.mean(metrics_results[\"rmse_scores\"])\n",
    "    mean_mae = np.mean(metrics_results[\"mae_scores\"])\n",
    "    mean_variance = np.mean(metrics_results[\"variance_scores\"])\n",
    "    mean_r2 = np.mean(metrics_results[\"r2_scores\"])\n",
    "    mean_pearson_corr = np.mean(metrics_results[\"pearson_corr_scores\"])\n",
    "    mean_deviation = np.mean(metrics_results[\"deviations\"])\n",
    "\n",
    "    return mean_rmse, mean_pearson_corr, mean_deviation, mean_r2, mean_variance, mean_mae\n",
    "\n",
    "\n",
    "\n",
    "def complete_analysis_pipeline(df, title, use_torch=False):\n",
    "    X, Y_normalized, ss = preprocess_data_manual_no_split(df, use_torch)\n",
    "    train_percentage = 0.99\n",
    "    n_samples = len(X)\n",
    "    n_train_samples = int(train_percentage * n_samples)\n",
    "    X_train, Y_train = X[:n_train_samples], Y_normalized[:n_train_samples]\n",
    "    X_blind, Y_blind = X[n_train_samples:], Y_normalized[n_train_samples:]\n",
    "\n",
    "    mean_rmse, mean_pearson_corr, mean_deviation, mean_r2, mean_variance, mean_mae = cross_validate_with_blind_set(X_train, Y_train, X_blind, Y_blind, use_torch=use_torch)\n",
    "    print(mean_rmse, mean_pearson_corr, mean_deviation, mean_r2, mean_variance, mean_mae)\n"
   ]
  },
  {
   "cell_type": "code",
   "execution_count": null,
   "metadata": {},
   "outputs": [],
   "source": [
    "complete_analysis_pipeline(df_1, ' ', use_torch=True)"
   ]
  },
  {
   "cell_type": "code",
   "execution_count": null,
   "metadata": {},
   "outputs": [],
   "source": [
    "complete_analysis_pipeline(df00, ' ', use_torch=True)"
   ]
  },
  {
   "cell_type": "code",
   "execution_count": null,
   "metadata": {},
   "outputs": [],
   "source": [
    "complete_analysis_pipeline(df_9, ' ', use_torch=True)"
   ]
  },
  {
   "cell_type": "code",
   "execution_count": null,
   "metadata": {},
   "outputs": [],
   "source": [
    "complete_analysis_pipeline(df, ' ', use_torch=True)"
   ]
  }
 ],
 "metadata": {
  "kernelspec": {
   "display_name": "myenv",
   "language": "python",
   "name": "python3"
  },
  "language_info": {
   "codemirror_mode": {
    "name": "ipython",
    "version": 3
   },
   "file_extension": ".py",
   "mimetype": "text/x-python",
   "name": "python",
   "nbconvert_exporter": "python",
   "pygments_lexer": "ipython3",
   "version": "3.12.1"
  }
 },
 "nbformat": 4,
 "nbformat_minor": 2
}
