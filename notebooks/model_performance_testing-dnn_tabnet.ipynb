{
 "cells": [
  {
   "cell_type": "code",
   "execution_count": 1,
   "metadata": {},
   "outputs": [
    {
     "name": "stderr",
     "output_type": "stream",
     "text": [
      "2024-03-27 13:58:51.013191: I tensorflow/core/util/port.cc:113] oneDNN custom operations are on. You may see slightly different numerical results due to floating-point round-off errors from different computation orders. To turn them off, set the environment variable `TF_ENABLE_ONEDNN_OPTS=0`.\n",
      "2024-03-27 13:58:51.123323: I tensorflow/core/platform/cpu_feature_guard.cc:210] This TensorFlow binary is optimized to use available CPU instructions in performance-critical operations.\n",
      "To enable the following instructions: AVX2 AVX_VNNI FMA, in other operations, rebuild TensorFlow with the appropriate compiler flags.\n",
      "2024-03-27 13:58:51.986216: W tensorflow/compiler/tf2tensorrt/utils/py_utils.cc:38] TF-TRT Warning: Could not find TensorRT\n"
     ]
    }
   ],
   "source": [
    "import sys\n",
    "import random\n",
    "import numpy as np\n",
    "import pandas as pd\n",
    "import matplotlib.pyplot as plt\n",
    "import seaborn as sns\n",
    "from sklearn.model_selection import cross_val_score, train_test_split, KFold\n",
    "from sklearn.ensemble import RandomForestRegressor\n",
    "from sklearn.metrics import r2_score, mean_squared_error\n",
    "from sklearn.preprocessing import StandardScaler\n",
    "from sklearn import model_selection\n",
    "from scipy.stats import pearsonr\n",
    "import tensorflow as tf\n",
    "import torch\n",
    "import torchvision\n",
    "sys.path.append('/home/juan/Documents/Master_Project/code/my_work/Testing-Algorithms/')\n",
    "from rf_improved2_copy import TorchRandomForestRegressor\n",
    "from tqdm import tqdm\n",
    "from math import sqrt\n",
    "import warnings\n",
    "from sklearn.exceptions import DataConversionWarning\n"
   ]
  },
  {
   "cell_type": "code",
   "execution_count": 2,
   "metadata": {},
   "outputs": [
    {
     "data": {
      "text/html": [
       "<div>\n",
       "<style scoped>\n",
       "    .dataframe tbody tr th:only-of-type {\n",
       "        vertical-align: middle;\n",
       "    }\n",
       "\n",
       "    .dataframe tbody tr th {\n",
       "        vertical-align: top;\n",
       "    }\n",
       "\n",
       "    .dataframe thead th {\n",
       "        text-align: right;\n",
       "    }\n",
       "</style>\n",
       "<table border=\"1\" class=\"dataframe\">\n",
       "  <thead>\n",
       "    <tr style=\"text-align: right;\">\n",
       "      <th></th>\n",
       "      <th>661</th>\n",
       "      <th>666</th>\n",
       "      <th>156</th>\n",
       "      <th>444</th>\n",
       "      <th>705</th>\n",
       "      <th>407</th>\n",
       "      <th>807</th>\n",
       "      <th>650</th>\n",
       "      <th>356</th>\n",
       "      <th>699</th>\n",
       "      <th>...</th>\n",
       "      <th>Box_26</th>\n",
       "      <th>Box_33</th>\n",
       "      <th>Box_34</th>\n",
       "      <th>Box_46</th>\n",
       "      <th>Box_50</th>\n",
       "      <th>Box_51</th>\n",
       "      <th>Total Charge</th>\n",
       "      <th>internal_vdw_energy</th>\n",
       "      <th>Folder</th>\n",
       "      <th>QM/MM SP Barrier</th>\n",
       "    </tr>\n",
       "  </thead>\n",
       "  <tbody>\n",
       "    <tr>\n",
       "      <th>0</th>\n",
       "      <td>0</td>\n",
       "      <td>0</td>\n",
       "      <td>1</td>\n",
       "      <td>1</td>\n",
       "      <td>0</td>\n",
       "      <td>0</td>\n",
       "      <td>1</td>\n",
       "      <td>1</td>\n",
       "      <td>2</td>\n",
       "      <td>0</td>\n",
       "      <td>...</td>\n",
       "      <td>-0.241552</td>\n",
       "      <td>0.0</td>\n",
       "      <td>0.0</td>\n",
       "      <td>0.000000</td>\n",
       "      <td>-0.758976</td>\n",
       "      <td>-1.007604</td>\n",
       "      <td>1.000009</td>\n",
       "      <td>2.925351</td>\n",
       "      <td>mol_134810</td>\n",
       "      <td>29.71</td>\n",
       "    </tr>\n",
       "    <tr>\n",
       "      <th>1</th>\n",
       "      <td>0</td>\n",
       "      <td>0</td>\n",
       "      <td>0</td>\n",
       "      <td>0</td>\n",
       "      <td>0</td>\n",
       "      <td>1</td>\n",
       "      <td>0</td>\n",
       "      <td>0</td>\n",
       "      <td>5</td>\n",
       "      <td>0</td>\n",
       "      <td>...</td>\n",
       "      <td>0.000000</td>\n",
       "      <td>0.0</td>\n",
       "      <td>0.0</td>\n",
       "      <td>-0.056827</td>\n",
       "      <td>-0.020914</td>\n",
       "      <td>-0.183128</td>\n",
       "      <td>-0.000017</td>\n",
       "      <td>-4.432160</td>\n",
       "      <td>mol_147462</td>\n",
       "      <td>28.33</td>\n",
       "    </tr>\n",
       "    <tr>\n",
       "      <th>2</th>\n",
       "      <td>0</td>\n",
       "      <td>0</td>\n",
       "      <td>0</td>\n",
       "      <td>0</td>\n",
       "      <td>0</td>\n",
       "      <td>0</td>\n",
       "      <td>1</td>\n",
       "      <td>2</td>\n",
       "      <td>4</td>\n",
       "      <td>0</td>\n",
       "      <td>...</td>\n",
       "      <td>-1.176918</td>\n",
       "      <td>0.0</td>\n",
       "      <td>0.0</td>\n",
       "      <td>-0.249862</td>\n",
       "      <td>-0.349354</td>\n",
       "      <td>0.000000</td>\n",
       "      <td>0.000008</td>\n",
       "      <td>-5.104365</td>\n",
       "      <td>mol_22419</td>\n",
       "      <td>28.28</td>\n",
       "    </tr>\n",
       "    <tr>\n",
       "      <th>3</th>\n",
       "      <td>0</td>\n",
       "      <td>0</td>\n",
       "      <td>0</td>\n",
       "      <td>0</td>\n",
       "      <td>0</td>\n",
       "      <td>1</td>\n",
       "      <td>1</td>\n",
       "      <td>1</td>\n",
       "      <td>2</td>\n",
       "      <td>0</td>\n",
       "      <td>...</td>\n",
       "      <td>0.096336</td>\n",
       "      <td>0.0</td>\n",
       "      <td>0.0</td>\n",
       "      <td>0.000000</td>\n",
       "      <td>-0.883456</td>\n",
       "      <td>0.819872</td>\n",
       "      <td>-0.000009</td>\n",
       "      <td>-3.150597</td>\n",
       "      <td>mol_469</td>\n",
       "      <td>22.72</td>\n",
       "    </tr>\n",
       "    <tr>\n",
       "      <th>4</th>\n",
       "      <td>1</td>\n",
       "      <td>0</td>\n",
       "      <td>0</td>\n",
       "      <td>0</td>\n",
       "      <td>0</td>\n",
       "      <td>0</td>\n",
       "      <td>1</td>\n",
       "      <td>1</td>\n",
       "      <td>3</td>\n",
       "      <td>1</td>\n",
       "      <td>...</td>\n",
       "      <td>0.026424</td>\n",
       "      <td>0.0</td>\n",
       "      <td>0.0</td>\n",
       "      <td>0.000000</td>\n",
       "      <td>0.662524</td>\n",
       "      <td>-1.430314</td>\n",
       "      <td>0.999997</td>\n",
       "      <td>-2.510429</td>\n",
       "      <td>mol_67286</td>\n",
       "      <td>25.81</td>\n",
       "    </tr>\n",
       "  </tbody>\n",
       "</table>\n",
       "<p>5 rows × 739 columns</p>\n",
       "</div>"
      ],
      "text/plain": [
       "   661  666  156  444  705  407  807  650  356  699  ...    Box_26  Box_33  \\\n",
       "0    0    0    1    1    0    0    1    1    2    0  ... -0.241552     0.0   \n",
       "1    0    0    0    0    0    1    0    0    5    0  ...  0.000000     0.0   \n",
       "2    0    0    0    0    0    0    1    2    4    0  ... -1.176918     0.0   \n",
       "3    0    0    0    0    0    1    1    1    2    0  ...  0.096336     0.0   \n",
       "4    1    0    0    0    0    0    1    1    3    1  ...  0.026424     0.0   \n",
       "\n",
       "   Box_34    Box_46    Box_50    Box_51  Total Charge  internal_vdw_energy  \\\n",
       "0     0.0  0.000000 -0.758976 -1.007604      1.000009             2.925351   \n",
       "1     0.0 -0.056827 -0.020914 -0.183128     -0.000017            -4.432160   \n",
       "2     0.0 -0.249862 -0.349354  0.000000      0.000008            -5.104365   \n",
       "3     0.0  0.000000 -0.883456  0.819872     -0.000009            -3.150597   \n",
       "4     0.0  0.000000  0.662524 -1.430314      0.999997            -2.510429   \n",
       "\n",
       "       Folder  QM/MM SP Barrier  \n",
       "0  mol_134810             29.71  \n",
       "1  mol_147462             28.33  \n",
       "2   mol_22419             28.28  \n",
       "3     mol_469             22.72  \n",
       "4   mol_67286             25.81  \n",
       "\n",
       "[5 rows x 739 columns]"
      ]
     },
     "execution_count": 2,
     "metadata": {},
     "output_type": "execute_result"
    }
   ],
   "source": [
    "\n",
    "\n",
    "data1 =pd.read_csv('data1.csv')\n",
    "data9 = pd.read_csv('data_1_test.csv')\n",
    "\n",
    "df_1 = data1.iloc[:, 1:]\n",
    "df_9 = data9.iloc[:,1:]\n",
    "\n",
    "columns = df_1.columns.tolist()\n",
    "\n",
    "columns.remove(\"Folder\")\n",
    "columns.remove(\"QM/MM SP Barrier\")\n",
    "\n",
    "new_columns_order = columns + [\"Folder\", \"QM/MM SP Barrier\"]\n",
    "\n",
    "df_1 = df_1.reindex(columns=new_columns_order)\n",
    "df_1.head()"
   ]
  },
  {
   "cell_type": "code",
   "execution_count": 3,
   "metadata": {},
   "outputs": [
    {
     "data": {
      "text/html": [
       "<div>\n",
       "<style scoped>\n",
       "    .dataframe tbody tr th:only-of-type {\n",
       "        vertical-align: middle;\n",
       "    }\n",
       "\n",
       "    .dataframe tbody tr th {\n",
       "        vertical-align: top;\n",
       "    }\n",
       "\n",
       "    .dataframe thead th {\n",
       "        text-align: right;\n",
       "    }\n",
       "</style>\n",
       "<table border=\"1\" class=\"dataframe\">\n",
       "  <thead>\n",
       "    <tr style=\"text-align: right;\">\n",
       "      <th></th>\n",
       "      <th>nBondsD</th>\n",
       "      <th>nBonds2</th>\n",
       "      <th>nBondsT</th>\n",
       "      <th>nBondsM</th>\n",
       "      <th>pubchemcomplexity</th>\n",
       "      <th>pubchemhbondacceptor</th>\n",
       "      <th>pubchemhbonddonor</th>\n",
       "      <th>pubchemrotbon</th>\n",
       "      <th>pubchemlogp</th>\n",
       "      <th>pubchemmass</th>\n",
       "      <th>...</th>\n",
       "      <th>hp_Atom_31</th>\n",
       "      <th>hp_Atom_32</th>\n",
       "      <th>hp_Atom_33</th>\n",
       "      <th>hp_Atom_34</th>\n",
       "      <th>hp_Atom_35</th>\n",
       "      <th>hp_Atom_36</th>\n",
       "      <th>hp_Atom_37</th>\n",
       "      <th>hp_Atom_38</th>\n",
       "      <th>Folder</th>\n",
       "      <th>QM/MM SP Barrier</th>\n",
       "    </tr>\n",
       "  </thead>\n",
       "  <tbody>\n",
       "    <tr>\n",
       "      <th>0</th>\n",
       "      <td>1</td>\n",
       "      <td>11</td>\n",
       "      <td>0</td>\n",
       "      <td>11</td>\n",
       "      <td>0.39820</td>\n",
       "      <td>5</td>\n",
       "      <td>2</td>\n",
       "      <td>4</td>\n",
       "      <td>0.39820</td>\n",
       "      <td>285.371</td>\n",
       "      <td>...</td>\n",
       "      <td>0.0</td>\n",
       "      <td>0.0</td>\n",
       "      <td>0.0</td>\n",
       "      <td>0.0</td>\n",
       "      <td>0.0</td>\n",
       "      <td>0.0</td>\n",
       "      <td>0.0</td>\n",
       "      <td>0.0</td>\n",
       "      <td>mol_134810</td>\n",
       "      <td>29.71</td>\n",
       "    </tr>\n",
       "    <tr>\n",
       "      <th>1</th>\n",
       "      <td>0</td>\n",
       "      <td>14</td>\n",
       "      <td>0</td>\n",
       "      <td>12</td>\n",
       "      <td>3.35790</td>\n",
       "      <td>4</td>\n",
       "      <td>0</td>\n",
       "      <td>3</td>\n",
       "      <td>3.35790</td>\n",
       "      <td>309.413</td>\n",
       "      <td>...</td>\n",
       "      <td>0.0</td>\n",
       "      <td>0.0</td>\n",
       "      <td>0.0</td>\n",
       "      <td>0.0</td>\n",
       "      <td>0.0</td>\n",
       "      <td>0.0</td>\n",
       "      <td>0.0</td>\n",
       "      <td>0.0</td>\n",
       "      <td>mol_147462</td>\n",
       "      <td>28.33</td>\n",
       "    </tr>\n",
       "    <tr>\n",
       "      <th>2</th>\n",
       "      <td>2</td>\n",
       "      <td>14</td>\n",
       "      <td>0</td>\n",
       "      <td>11</td>\n",
       "      <td>1.79150</td>\n",
       "      <td>6</td>\n",
       "      <td>1</td>\n",
       "      <td>7</td>\n",
       "      <td>1.79150</td>\n",
       "      <td>340.427</td>\n",
       "      <td>...</td>\n",
       "      <td>0.0</td>\n",
       "      <td>0.0</td>\n",
       "      <td>0.0</td>\n",
       "      <td>0.0</td>\n",
       "      <td>0.0</td>\n",
       "      <td>0.0</td>\n",
       "      <td>0.0</td>\n",
       "      <td>0.0</td>\n",
       "      <td>mol_22419</td>\n",
       "      <td>28.28</td>\n",
       "    </tr>\n",
       "    <tr>\n",
       "      <th>3</th>\n",
       "      <td>1</td>\n",
       "      <td>16</td>\n",
       "      <td>1</td>\n",
       "      <td>6</td>\n",
       "      <td>1.46888</td>\n",
       "      <td>6</td>\n",
       "      <td>0</td>\n",
       "      <td>6</td>\n",
       "      <td>1.46888</td>\n",
       "      <td>316.405</td>\n",
       "      <td>...</td>\n",
       "      <td>0.0</td>\n",
       "      <td>0.0</td>\n",
       "      <td>0.0</td>\n",
       "      <td>0.0</td>\n",
       "      <td>0.0</td>\n",
       "      <td>0.0</td>\n",
       "      <td>0.0</td>\n",
       "      <td>0.0</td>\n",
       "      <td>mol_469</td>\n",
       "      <td>22.72</td>\n",
       "    </tr>\n",
       "    <tr>\n",
       "      <th>4</th>\n",
       "      <td>1</td>\n",
       "      <td>12</td>\n",
       "      <td>0</td>\n",
       "      <td>6</td>\n",
       "      <td>-0.04998</td>\n",
       "      <td>4</td>\n",
       "      <td>3</td>\n",
       "      <td>2</td>\n",
       "      <td>-0.04998</td>\n",
       "      <td>252.313</td>\n",
       "      <td>...</td>\n",
       "      <td>0.0</td>\n",
       "      <td>0.0</td>\n",
       "      <td>0.0</td>\n",
       "      <td>0.0</td>\n",
       "      <td>0.0</td>\n",
       "      <td>0.0</td>\n",
       "      <td>0.0</td>\n",
       "      <td>0.0</td>\n",
       "      <td>mol_67286</td>\n",
       "      <td>25.81</td>\n",
       "    </tr>\n",
       "  </tbody>\n",
       "</table>\n",
       "<p>5 rows × 1217 columns</p>\n",
       "</div>"
      ],
      "text/plain": [
       "   nBondsD  nBonds2  nBondsT  nBondsM  pubchemcomplexity  \\\n",
       "0        1       11        0       11            0.39820   \n",
       "1        0       14        0       12            3.35790   \n",
       "2        2       14        0       11            1.79150   \n",
       "3        1       16        1        6            1.46888   \n",
       "4        1       12        0        6           -0.04998   \n",
       "\n",
       "   pubchemhbondacceptor  pubchemhbonddonor  pubchemrotbon  pubchemlogp  \\\n",
       "0                     5                  2              4      0.39820   \n",
       "1                     4                  0              3      3.35790   \n",
       "2                     6                  1              7      1.79150   \n",
       "3                     6                  0              6      1.46888   \n",
       "4                     4                  3              2     -0.04998   \n",
       "\n",
       "   pubchemmass  ...  hp_Atom_31  hp_Atom_32  hp_Atom_33  hp_Atom_34  \\\n",
       "0      285.371  ...         0.0         0.0         0.0         0.0   \n",
       "1      309.413  ...         0.0         0.0         0.0         0.0   \n",
       "2      340.427  ...         0.0         0.0         0.0         0.0   \n",
       "3      316.405  ...         0.0         0.0         0.0         0.0   \n",
       "4      252.313  ...         0.0         0.0         0.0         0.0   \n",
       "\n",
       "   hp_Atom_35  hp_Atom_36  hp_Atom_37  hp_Atom_38      Folder  \\\n",
       "0         0.0         0.0         0.0         0.0  mol_134810   \n",
       "1         0.0         0.0         0.0         0.0  mol_147462   \n",
       "2         0.0         0.0         0.0         0.0   mol_22419   \n",
       "3         0.0         0.0         0.0         0.0     mol_469   \n",
       "4         0.0         0.0         0.0         0.0   mol_67286   \n",
       "\n",
       "   QM/MM SP Barrier  \n",
       "0             29.71  \n",
       "1             28.33  \n",
       "2             28.28  \n",
       "3             22.72  \n",
       "4             25.81  \n",
       "\n",
       "[5 rows x 1217 columns]"
      ]
     },
     "execution_count": 3,
     "metadata": {},
     "output_type": "execute_result"
    }
   ],
   "source": [
    "df = pd.read_csv('/home/juan/Documents/Master_Project/data/process/final_selection/All_feats_newC_hp_atoms.csv')\n",
    "df = df.iloc[:,1:]\n",
    "df.head()"
   ]
  },
  {
   "cell_type": "code",
   "execution_count": 4,
   "metadata": {},
   "outputs": [
    {
     "data": {
      "text/html": [
       "<div>\n",
       "<style scoped>\n",
       "    .dataframe tbody tr th:only-of-type {\n",
       "        vertical-align: middle;\n",
       "    }\n",
       "\n",
       "    .dataframe tbody tr th {\n",
       "        vertical-align: top;\n",
       "    }\n",
       "\n",
       "    .dataframe thead th {\n",
       "        text-align: right;\n",
       "    }\n",
       "</style>\n",
       "<table border=\"1\" class=\"dataframe\">\n",
       "  <thead>\n",
       "    <tr style=\"text-align: right;\">\n",
       "      <th></th>\n",
       "      <th>0</th>\n",
       "      <th>1</th>\n",
       "      <th>2</th>\n",
       "      <th>3</th>\n",
       "      <th>4</th>\n",
       "      <th>5</th>\n",
       "      <th>6</th>\n",
       "      <th>7</th>\n",
       "      <th>8</th>\n",
       "      <th>9</th>\n",
       "      <th>...</th>\n",
       "      <th>resid 120</th>\n",
       "      <th>resid 119</th>\n",
       "      <th>resid 146</th>\n",
       "      <th>resid 145</th>\n",
       "      <th>resid 147</th>\n",
       "      <th>resid 786</th>\n",
       "      <th>resid 61</th>\n",
       "      <th>resid 29</th>\n",
       "      <th>Folder</th>\n",
       "      <th>QM/MM SP Barrier</th>\n",
       "    </tr>\n",
       "  </thead>\n",
       "  <tbody>\n",
       "    <tr>\n",
       "      <th>1092</th>\n",
       "      <td>0</td>\n",
       "      <td>0</td>\n",
       "      <td>0</td>\n",
       "      <td>0</td>\n",
       "      <td>0</td>\n",
       "      <td>0</td>\n",
       "      <td>0</td>\n",
       "      <td>0</td>\n",
       "      <td>0</td>\n",
       "      <td>0</td>\n",
       "      <td>...</td>\n",
       "      <td>19.635709</td>\n",
       "      <td>22.622308</td>\n",
       "      <td>19.836394</td>\n",
       "      <td>20.933459</td>\n",
       "      <td>22.265739</td>\n",
       "      <td>15.378876</td>\n",
       "      <td>5.409570</td>\n",
       "      <td>20.505763</td>\n",
       "      <td>mol_178096</td>\n",
       "      <td>21.45</td>\n",
       "    </tr>\n",
       "    <tr>\n",
       "      <th>1093</th>\n",
       "      <td>0</td>\n",
       "      <td>0</td>\n",
       "      <td>0</td>\n",
       "      <td>0</td>\n",
       "      <td>0</td>\n",
       "      <td>0</td>\n",
       "      <td>0</td>\n",
       "      <td>0</td>\n",
       "      <td>0</td>\n",
       "      <td>0</td>\n",
       "      <td>...</td>\n",
       "      <td>18.754397</td>\n",
       "      <td>22.329591</td>\n",
       "      <td>19.444639</td>\n",
       "      <td>20.593992</td>\n",
       "      <td>21.991518</td>\n",
       "      <td>15.392180</td>\n",
       "      <td>4.830849</td>\n",
       "      <td>20.268452</td>\n",
       "      <td>mol_178159</td>\n",
       "      <td>27.00</td>\n",
       "    </tr>\n",
       "    <tr>\n",
       "      <th>1094</th>\n",
       "      <td>0</td>\n",
       "      <td>0</td>\n",
       "      <td>0</td>\n",
       "      <td>0</td>\n",
       "      <td>0</td>\n",
       "      <td>0</td>\n",
       "      <td>0</td>\n",
       "      <td>0</td>\n",
       "      <td>0</td>\n",
       "      <td>0</td>\n",
       "      <td>...</td>\n",
       "      <td>17.451327</td>\n",
       "      <td>21.067321</td>\n",
       "      <td>18.741670</td>\n",
       "      <td>19.913888</td>\n",
       "      <td>20.867617</td>\n",
       "      <td>13.842437</td>\n",
       "      <td>3.824708</td>\n",
       "      <td>18.920998</td>\n",
       "      <td>mol_178160</td>\n",
       "      <td>29.97</td>\n",
       "    </tr>\n",
       "    <tr>\n",
       "      <th>1095</th>\n",
       "      <td>0</td>\n",
       "      <td>0</td>\n",
       "      <td>0</td>\n",
       "      <td>0</td>\n",
       "      <td>0</td>\n",
       "      <td>0</td>\n",
       "      <td>0</td>\n",
       "      <td>0</td>\n",
       "      <td>0</td>\n",
       "      <td>0</td>\n",
       "      <td>...</td>\n",
       "      <td>19.142024</td>\n",
       "      <td>22.027824</td>\n",
       "      <td>19.150536</td>\n",
       "      <td>20.300864</td>\n",
       "      <td>21.613279</td>\n",
       "      <td>15.685708</td>\n",
       "      <td>5.110045</td>\n",
       "      <td>19.831135</td>\n",
       "      <td>mol_178411</td>\n",
       "      <td>28.04</td>\n",
       "    </tr>\n",
       "    <tr>\n",
       "      <th>1096</th>\n",
       "      <td>0</td>\n",
       "      <td>0</td>\n",
       "      <td>0</td>\n",
       "      <td>0</td>\n",
       "      <td>0</td>\n",
       "      <td>0</td>\n",
       "      <td>0</td>\n",
       "      <td>0</td>\n",
       "      <td>0</td>\n",
       "      <td>0</td>\n",
       "      <td>...</td>\n",
       "      <td>19.653265</td>\n",
       "      <td>22.952895</td>\n",
       "      <td>20.551297</td>\n",
       "      <td>21.449449</td>\n",
       "      <td>22.798516</td>\n",
       "      <td>16.306594</td>\n",
       "      <td>5.876727</td>\n",
       "      <td>21.242883</td>\n",
       "      <td>mol_178649</td>\n",
       "      <td>25.78</td>\n",
       "    </tr>\n",
       "  </tbody>\n",
       "</table>\n",
       "<p>5 rows × 1051 columns</p>\n",
       "</div>"
      ],
      "text/plain": [
       "      0  1  2  3  4  5  6  7  8  9  ...  resid 120  resid 119  resid 146  \\\n",
       "1092  0  0  0  0  0  0  0  0  0  0  ...  19.635709  22.622308  19.836394   \n",
       "1093  0  0  0  0  0  0  0  0  0  0  ...  18.754397  22.329591  19.444639   \n",
       "1094  0  0  0  0  0  0  0  0  0  0  ...  17.451327  21.067321  18.741670   \n",
       "1095  0  0  0  0  0  0  0  0  0  0  ...  19.142024  22.027824  19.150536   \n",
       "1096  0  0  0  0  0  0  0  0  0  0  ...  19.653265  22.952895  20.551297   \n",
       "\n",
       "      resid 145  resid 147  resid 786  resid 61   resid 29      Folder  \\\n",
       "1092  20.933459  22.265739  15.378876  5.409570  20.505763  mol_178096   \n",
       "1093  20.593992  21.991518  15.392180  4.830849  20.268452  mol_178159   \n",
       "1094  19.913888  20.867617  13.842437  3.824708  18.920998  mol_178160   \n",
       "1095  20.300864  21.613279  15.685708  5.110045  19.831135  mol_178411   \n",
       "1096  21.449449  22.798516  16.306594  5.876727  21.242883  mol_178649   \n",
       "\n",
       "      QM/MM SP Barrier  \n",
       "1092             21.45  \n",
       "1093             27.00  \n",
       "1094             29.97  \n",
       "1095             28.04  \n",
       "1096             25.78  \n",
       "\n",
       "[5 rows x 1051 columns]"
      ]
     },
     "execution_count": 4,
     "metadata": {},
     "output_type": "execute_result"
    }
   ],
   "source": [
    "import pandas as pd\n",
    "\n",
    "dataset_initial = pd.read_csv('dataset.csv')\n",
    "\n",
    "df00 = dataset_initial.iloc[:, 1:]\n",
    "\n",
    "df00.drop(columns='total_charge', inplace=True)\n",
    "\n",
    "df00.tail()\n"
   ]
  },
  {
   "cell_type": "markdown",
   "metadata": {},
   "source": [
    "## Common functions"
   ]
  },
  {
   "cell_type": "code",
   "execution_count": 5,
   "metadata": {},
   "outputs": [],
   "source": [
    "def preprocess_data_manual_no_split(df, use_torch):\n",
    "    X = df.drop(columns=['QM/MM SP Barrier', 'Folder']).values\n",
    "    Y = df['QM/MM SP Barrier'].values\n",
    "    ss = StandardScaler()\n",
    "    Y_reshaped = Y.reshape(-1, 1)\n",
    "    Y_normalized = ss.fit_transform(Y_reshaped)\n",
    "    if use_torch:\n",
    "        X = torch.tensor(X, dtype=torch.float32)\n",
    "        Y_normalized = torch.tensor(Y_normalized, dtype=torch.float32).flatten()\n",
    "    return X, Y_normalized, ss\n",
    "\n",
    "def mean_deviation_from_true_mean(y_true, y_pred):\n",
    "    \"\"\"\n",
    "    Calculates the mean of the absolute deviations of predicted values from the mean of true values.\n",
    "\n",
    "    :param y_true: array-like, true values.\n",
    "    :param y_pred: array-like, predicted values.\n",
    "    :return: float, mean deviation from the true mean.\n",
    "    \"\"\"\n",
    "    true_mean = np.mean(y_true)\n",
    "    deviations = np.abs(y_pred - true_mean)\n",
    "    mean_deviation = np.mean(deviations)\n",
    "    return mean_deviation"
   ]
  },
  {
   "cell_type": "markdown",
   "metadata": {},
   "source": [
    "# Deep Neural Network"
   ]
  },
  {
   "cell_type": "code",
   "execution_count": 21,
   "metadata": {},
   "outputs": [],
   "source": [
    "import tensorflow as tf\n",
    "from tensorflow.keras.models import Model\n",
    "from tensorflow.keras.layers import Dense, Dropout, BatchNormalization, Input, Add\n",
    "from tensorflow.keras.optimizers import Adam\n",
    "from sklearn.model_selection import train_test_split\n",
    "\n",
    "\n",
    "def dnn(num_features, use_residual_blocks=True):\n",
    "    # Input Layer\n",
    "    input_layer = Input(shape=(num_features,))\n",
    "\n",
    "    # Initial Dense Block\n",
    "    x = Dense(256, activation='relu')(input_layer)\n",
    "    x = BatchNormalization()(x)\n",
    "    x = Dropout(0.5)(x)\n",
    "\n",
    "    # Residual Blocks\n",
    "    if use_residual_blocks:\n",
    "        for _ in range(5):\n",
    "            block_input = x\n",
    "            x = Dense(256, activation='relu')(x)\n",
    "            x = BatchNormalization()(x)\n",
    "            x = Dropout(0.3)(x)\n",
    "            x = Dense(256, activation='relu')(x)\n",
    "            x = BatchNormalization()(x)\n",
    "            x = Dropout(0.3)(x)\n",
    "            # Adding skip connection\n",
    "            x = Add()([x, block_input])\n",
    "\n",
    "    # Dense Layers\n",
    "    x = Dense(512, activation='relu')(x)\n",
    "    x = BatchNormalization()(x)\n",
    "    x = Dropout(0.4)(x)\n",
    "\n",
    "    x = Dense(512, activation='relu')(x)\n",
    "    x = BatchNormalization()(x)\n",
    "    x = Dropout(0.4)(x)\n",
    "\n",
    "    # Output Layer\n",
    "    output = Dense(1)(x)  # Regression output\n",
    "\n",
    "    # Construct and compile model\n",
    "    model = Model(inputs=input_layer, outputs=output)\n",
    "    model.compile(optimizer='adam', loss='mean_squared_error',\n",
    "                  metrics=[tf.keras.metrics.MeanSquaredError(), root_mean_squared_error])\n",
    "\n",
    "    return model\n",
    "\n",
    "#RMSE\n",
    "def root_mean_squared_error(y_true, y_pred):\n",
    "    return tf.sqrt(tf.reduce_mean(tf.square(y_pred - y_true)))\n",
    "\n",
    "# Cross-validation function for DNN\n",
    "def cross_validate_with_dnn(X, y, n_splits=10):\n",
    "    kf = KFold(n_splits=n_splits, shuffle=True, random_state=42)\n",
    "    rmse_scores, mae_scores, variance_scores, r2_scores, pearson_corr_scores, deviations = [], [], [], [], [], []\n",
    "\n",
    "\n",
    "    for train_index, test_index in tqdm(kf.split(X), total=n_splits, desc=\"Cross-Validation\"):\n",
    "        X_train, X_test = X[train_index], X[test_index]\n",
    "        y_train, y_test = y[train_index], y[test_index]\n",
    "        \n",
    "        # Initialize the DNN model\n",
    "        model = dnn(num_features=X_train.shape[1])\n",
    "        \n",
    "        # Fit the model\n",
    "        model.fit(X_train, y_train, epochs=40, batch_size=16, verbose=0) # Training\n",
    "        \n",
    "        # Predict\n",
    "        y_pred = model.predict(X_test).flatten()\n",
    "        y_test_flat = y_test.flatten()\n",
    "        # Calculate metrics\n",
    "        rmse_scores.append(np.sqrt(mean_squared_error(y_test_flat, y_pred)))\n",
    "        mae_scores.append(mean_absolute_error(y_test_flat, y_pred))\n",
    "        variance_scores.append(np.var(y_test_flat - y_pred))\n",
    "        r2_scores.append(r2_score(y_test_flat, y_pred))\n",
    "        pearson_corr_scores.append(pearsonr(y_test_flat, y_pred)[0])\n",
    "        \n",
    "        deviations.append(mean_deviation_from_true_mean(y_test_flat, y_pred))\n",
    "\n",
    "    # Aggregate results\n",
    "    mean_rmse = np.mean(rmse_scores)\n",
    "    mean_mae = np.mean(mae_scores)\n",
    "    mean_variance = np.mean(variance_scores)\n",
    "    mean_r2 = np.mean(r2_scores)\n",
    "    mean_pearson_corr = np.mean(pearson_corr_scores)\n",
    "    mean_deviation = np.mean(deviations)\n",
    "\n",
    "    return mean_rmse, mean_pearson_corr, mean_deviation, mean_r2, mean_variance, mean_mae\n",
    "\n",
    "def complete_analysis_pipeline(df, title, use_torch=False):\n",
    "    X, Y_normalized, ss = preprocess_data_manual_no_split(df, use_torch)\n",
    "    train_percentage = 0.99\n",
    "    n_samples = len(X)\n",
    "    n_train_samples = int(train_percentage * n_samples)\n",
    "    X_train, Y_train = X[:n_train_samples], Y_normalized[:n_train_samples]\n",
    "    X_blind, Y_blind = X[n_train_samples:], Y_normalized[n_train_samples:]\n",
    "\n",
    "    mean_rmse, mean_pearson_corr, mean_deviation, mean_r2, mean_variance, mean_mae = cross_validate_with_dnn(X_train, Y_train)\n",
    "    print(mean_rmse, mean_pearson_corr, mean_deviation, mean_r2, mean_variance, mean_mae)\n",
    "\n"
   ]
  },
  {
   "cell_type": "code",
   "execution_count": 22,
   "metadata": {},
   "outputs": [
    {
     "name": "stderr",
     "output_type": "stream",
     "text": [
      "Cross-Validation:   0%|          | 0/10 [00:00<?, ?it/s]"
     ]
    },
    {
     "name": "stderr",
     "output_type": "stream",
     "text": [
      "2024-03-27 14:45:59.168650: E external/local_xla/xla/stream_executor/cuda/cuda_driver.cc:282] failed call to cuInit: CUDA_ERROR_NO_DEVICE: no CUDA-capable device is detected\n"
     ]
    },
    {
     "name": "stdout",
     "output_type": "stream",
     "text": [
      "\u001b[1m27/27\u001b[0m \u001b[32m━━━━━━━━━━━━━━━━━━━━\u001b[0m\u001b[37m\u001b[0m \u001b[1m1s\u001b[0m 14ms/step\n"
     ]
    },
    {
     "name": "stderr",
     "output_type": "stream",
     "text": [
      "Cross-Validation:  10%|█         | 1/10 [06:42<1:00:24, 402.76s/it]"
     ]
    },
    {
     "name": "stdout",
     "output_type": "stream",
     "text": [
      "\u001b[1m27/27\u001b[0m \u001b[32m━━━━━━━━━━━━━━━━━━━━\u001b[0m\u001b[37m\u001b[0m \u001b[1m0s\u001b[0m 10ms/step\n"
     ]
    },
    {
     "name": "stderr",
     "output_type": "stream",
     "text": [
      "Cross-Validation:  20%|██        | 2/10 [12:40<50:11, 376.39s/it]  "
     ]
    },
    {
     "name": "stdout",
     "output_type": "stream",
     "text": [
      "\u001b[1m27/27\u001b[0m \u001b[32m━━━━━━━━━━━━━━━━━━━━\u001b[0m\u001b[37m\u001b[0m \u001b[1m0s\u001b[0m 8ms/step\n"
     ]
    },
    {
     "name": "stderr",
     "output_type": "stream",
     "text": [
      "Cross-Validation:  30%|███       | 3/10 [18:50<43:33, 373.34s/it]"
     ]
    },
    {
     "name": "stdout",
     "output_type": "stream",
     "text": [
      "\u001b[1m27/27\u001b[0m \u001b[32m━━━━━━━━━━━━━━━━━━━━\u001b[0m\u001b[37m\u001b[0m \u001b[1m0s\u001b[0m 8ms/step\n"
     ]
    },
    {
     "name": "stderr",
     "output_type": "stream",
     "text": [
      "Cross-Validation:  40%|████      | 4/10 [24:09<35:10, 351.76s/it]"
     ]
    },
    {
     "name": "stdout",
     "output_type": "stream",
     "text": [
      "\u001b[1m27/27\u001b[0m \u001b[32m━━━━━━━━━━━━━━━━━━━━\u001b[0m\u001b[37m\u001b[0m \u001b[1m0s\u001b[0m 12ms/step\n"
     ]
    },
    {
     "name": "stderr",
     "output_type": "stream",
     "text": [
      "Cross-Validation:  50%|█████     | 5/10 [29:15<27:57, 335.44s/it]"
     ]
    },
    {
     "name": "stdout",
     "output_type": "stream",
     "text": [
      "\u001b[1m27/27\u001b[0m \u001b[32m━━━━━━━━━━━━━━━━━━━━\u001b[0m\u001b[37m\u001b[0m \u001b[1m0s\u001b[0m 9ms/step\n"
     ]
    },
    {
     "name": "stderr",
     "output_type": "stream",
     "text": [
      "Cross-Validation:  60%|██████    | 6/10 [34:50<22:21, 335.25s/it]"
     ]
    },
    {
     "name": "stdout",
     "output_type": "stream",
     "text": [
      "\u001b[1m27/27\u001b[0m \u001b[32m━━━━━━━━━━━━━━━━━━━━\u001b[0m\u001b[37m\u001b[0m \u001b[1m0s\u001b[0m 8ms/step\n"
     ]
    },
    {
     "name": "stderr",
     "output_type": "stream",
     "text": [
      "Cross-Validation:  70%|███████   | 7/10 [41:08<17:27, 349.09s/it]"
     ]
    },
    {
     "name": "stdout",
     "output_type": "stream",
     "text": [
      "\u001b[1m27/27\u001b[0m \u001b[32m━━━━━━━━━━━━━━━━━━━━\u001b[0m\u001b[37m\u001b[0m \u001b[1m0s\u001b[0m 8ms/step\n"
     ]
    },
    {
     "name": "stderr",
     "output_type": "stream",
     "text": [
      "Cross-Validation:  80%|████████  | 8/10 [47:03<11:42, 351.14s/it]"
     ]
    },
    {
     "name": "stdout",
     "output_type": "stream",
     "text": [
      "\u001b[1m27/27\u001b[0m \u001b[32m━━━━━━━━━━━━━━━━━━━━\u001b[0m\u001b[37m\u001b[0m \u001b[1m0s\u001b[0m 8ms/step\n"
     ]
    },
    {
     "name": "stderr",
     "output_type": "stream",
     "text": [
      "Cross-Validation:  90%|█████████ | 9/10 [52:57<05:52, 352.15s/it]"
     ]
    },
    {
     "name": "stdout",
     "output_type": "stream",
     "text": [
      "\u001b[1m27/27\u001b[0m \u001b[32m━━━━━━━━━━━━━━━━━━━━\u001b[0m\u001b[37m\u001b[0m \u001b[1m0s\u001b[0m 9ms/step\n"
     ]
    },
    {
     "name": "stderr",
     "output_type": "stream",
     "text": [
      "Cross-Validation: 100%|██████████| 10/10 [58:57<00:00, 353.73s/it]"
     ]
    },
    {
     "name": "stdout",
     "output_type": "stream",
     "text": [
      "0.9563688941344781 0.3805575625264424 0.32036537 0.08486346028655395 0.8757564633103696 0.7003751832152034\n"
     ]
    },
    {
     "name": "stderr",
     "output_type": "stream",
     "text": [
      "\n"
     ]
    }
   ],
   "source": [
    "complete_analysis_pipeline(df_1, ' ')"
   ]
  },
  {
   "cell_type": "code",
   "execution_count": 23,
   "metadata": {},
   "outputs": [
    {
     "name": "stderr",
     "output_type": "stream",
     "text": [
      "Cross-Validation:   0%|          | 0/10 [00:00<?, ?it/s]"
     ]
    },
    {
     "name": "stdout",
     "output_type": "stream",
     "text": [
      "\u001b[1m4/4\u001b[0m \u001b[32m━━━━━━━━━━━━━━━━━━━━\u001b[0m\u001b[37m\u001b[0m \u001b[1m0s\u001b[0m 59ms/step\n"
     ]
    },
    {
     "name": "stderr",
     "output_type": "stream",
     "text": [
      "Cross-Validation:  10%|█         | 1/10 [00:44<06:39, 44.37s/it]"
     ]
    },
    {
     "name": "stdout",
     "output_type": "stream",
     "text": [
      "WARNING:tensorflow:5 out of the last 32 calls to <function TensorFlowTrainer.make_predict_function.<locals>.one_step_on_data_distributed at 0x7896f67784a0> triggered tf.function retracing. Tracing is expensive and the excessive number of tracings could be due to (1) creating @tf.function repeatedly in a loop, (2) passing tensors with different shapes, (3) passing Python objects instead of tensors. For (1), please define your @tf.function outside of the loop. For (2), @tf.function has reduce_retracing=True option that can avoid unnecessary retracing. For (3), please refer to https://www.tensorflow.org/guide/function#controlling_retracing and https://www.tensorflow.org/api_docs/python/tf/function for  more details.\n",
      "\u001b[1m1/4\u001b[0m \u001b[32m━━━━━\u001b[0m\u001b[37m━━━━━━━━━━━━━━━\u001b[0m \u001b[1m0s\u001b[0m 177ms/stepWARNING:tensorflow:6 out of the last 35 calls to <function TensorFlowTrainer.make_predict_function.<locals>.one_step_on_data_distributed at 0x7896f67784a0> triggered tf.function retracing. Tracing is expensive and the excessive number of tracings could be due to (1) creating @tf.function repeatedly in a loop, (2) passing tensors with different shapes, (3) passing Python objects instead of tensors. For (1), please define your @tf.function outside of the loop. For (2), @tf.function has reduce_retracing=True option that can avoid unnecessary retracing. For (3), please refer to https://www.tensorflow.org/guide/function#controlling_retracing and https://www.tensorflow.org/api_docs/python/tf/function for  more details.\n",
      "\u001b[1m4/4\u001b[0m \u001b[32m━━━━━━━━━━━━━━━━━━━━\u001b[0m\u001b[37m\u001b[0m \u001b[1m0s\u001b[0m 63ms/step\n"
     ]
    },
    {
     "name": "stderr",
     "output_type": "stream",
     "text": [
      "Cross-Validation:  20%|██        | 2/10 [01:33<06:17, 47.14s/it]"
     ]
    },
    {
     "name": "stdout",
     "output_type": "stream",
     "text": [
      "\u001b[1m4/4\u001b[0m \u001b[32m━━━━━━━━━━━━━━━━━━━━\u001b[0m\u001b[37m\u001b[0m \u001b[1m0s\u001b[0m 58ms/step\n"
     ]
    },
    {
     "name": "stderr",
     "output_type": "stream",
     "text": [
      "Cross-Validation:  30%|███       | 3/10 [02:04<04:39, 39.88s/it]"
     ]
    },
    {
     "name": "stdout",
     "output_type": "stream",
     "text": [
      "\u001b[1m4/4\u001b[0m \u001b[32m━━━━━━━━━━━━━━━━━━━━\u001b[0m\u001b[37m\u001b[0m \u001b[1m0s\u001b[0m 57ms/step\n"
     ]
    },
    {
     "name": "stderr",
     "output_type": "stream",
     "text": [
      "Cross-Validation:  40%|████      | 4/10 [02:39<03:46, 37.75s/it]"
     ]
    },
    {
     "name": "stdout",
     "output_type": "stream",
     "text": [
      "\u001b[1m4/4\u001b[0m \u001b[32m━━━━━━━━━━━━━━━━━━━━\u001b[0m\u001b[37m\u001b[0m \u001b[1m0s\u001b[0m 59ms/step\n"
     ]
    },
    {
     "name": "stderr",
     "output_type": "stream",
     "text": [
      "Cross-Validation:  50%|█████     | 5/10 [03:25<03:23, 40.70s/it]"
     ]
    },
    {
     "name": "stdout",
     "output_type": "stream",
     "text": [
      "\u001b[1m4/4\u001b[0m \u001b[32m━━━━━━━━━━━━━━━━━━━━\u001b[0m\u001b[37m\u001b[0m \u001b[1m0s\u001b[0m 57ms/step\n"
     ]
    },
    {
     "name": "stderr",
     "output_type": "stream",
     "text": [
      "Cross-Validation:  60%|██████    | 6/10 [04:02<02:38, 39.74s/it]"
     ]
    },
    {
     "name": "stdout",
     "output_type": "stream",
     "text": [
      "\u001b[1m4/4\u001b[0m \u001b[32m━━━━━━━━━━━━━━━━━━━━\u001b[0m\u001b[37m\u001b[0m \u001b[1m0s\u001b[0m 63ms/step\n"
     ]
    },
    {
     "name": "stderr",
     "output_type": "stream",
     "text": [
      "Cross-Validation:  70%|███████   | 7/10 [04:37<01:54, 38.16s/it]"
     ]
    },
    {
     "name": "stdout",
     "output_type": "stream",
     "text": [
      "\u001b[1m4/4\u001b[0m \u001b[32m━━━━━━━━━━━━━━━━━━━━\u001b[0m\u001b[37m\u001b[0m \u001b[1m0s\u001b[0m 56ms/step\n"
     ]
    },
    {
     "name": "stderr",
     "output_type": "stream",
     "text": [
      "Cross-Validation:  80%|████████  | 8/10 [05:36<01:29, 44.78s/it]"
     ]
    },
    {
     "name": "stdout",
     "output_type": "stream",
     "text": [
      "\u001b[1m4/4\u001b[0m \u001b[32m━━━━━━━━━━━━━━━━━━━━\u001b[0m\u001b[37m\u001b[0m \u001b[1m0s\u001b[0m 58ms/step\n"
     ]
    },
    {
     "name": "stderr",
     "output_type": "stream",
     "text": [
      "Cross-Validation:  90%|█████████ | 9/10 [06:14<00:42, 42.63s/it]"
     ]
    },
    {
     "name": "stdout",
     "output_type": "stream",
     "text": [
      "\u001b[1m4/4\u001b[0m \u001b[32m━━━━━━━━━━━━━━━━━━━━\u001b[0m\u001b[37m\u001b[0m \u001b[1m0s\u001b[0m 61ms/step\n"
     ]
    },
    {
     "name": "stderr",
     "output_type": "stream",
     "text": [
      "Cross-Validation: 100%|██████████| 10/10 [07:09<00:00, 42.93s/it]"
     ]
    },
    {
     "name": "stdout",
     "output_type": "stream",
     "text": [
      "1.0449843902972646 0.11952676937662668 0.34569734 -0.10455492950764826 1.058745660348354 0.8207892535083194\n"
     ]
    },
    {
     "name": "stderr",
     "output_type": "stream",
     "text": [
      "\n"
     ]
    }
   ],
   "source": [
    "complete_analysis_pipeline(df00, ' ')"
   ]
  },
  {
   "cell_type": "code",
   "execution_count": 24,
   "metadata": {},
   "outputs": [
    {
     "name": "stderr",
     "output_type": "stream",
     "text": [
      "Cross-Validation:   0%|          | 0/10 [00:00<?, ?it/s]"
     ]
    },
    {
     "name": "stdout",
     "output_type": "stream",
     "text": [
      "\u001b[1m27/27\u001b[0m \u001b[32m━━━━━━━━━━━━━━━━━━━━\u001b[0m\u001b[37m\u001b[0m \u001b[1m0s\u001b[0m 10ms/step\n"
     ]
    },
    {
     "name": "stderr",
     "output_type": "stream",
     "text": [
      "Cross-Validation:  10%|█         | 1/10 [05:30<49:34, 330.45s/it]"
     ]
    },
    {
     "name": "stdout",
     "output_type": "stream",
     "text": [
      "\u001b[1m27/27\u001b[0m \u001b[32m━━━━━━━━━━━━━━━━━━━━\u001b[0m\u001b[37m\u001b[0m \u001b[1m0s\u001b[0m 8ms/step\n"
     ]
    },
    {
     "name": "stderr",
     "output_type": "stream",
     "text": [
      "Cross-Validation:  20%|██        | 2/10 [10:58<43:52, 329.06s/it]"
     ]
    },
    {
     "name": "stdout",
     "output_type": "stream",
     "text": [
      "\u001b[1m27/27\u001b[0m \u001b[32m━━━━━━━━━━━━━━━━━━━━\u001b[0m\u001b[37m\u001b[0m \u001b[1m0s\u001b[0m 10ms/step\n"
     ]
    },
    {
     "name": "stderr",
     "output_type": "stream",
     "text": [
      "Cross-Validation:  30%|███       | 3/10 [16:22<38:08, 326.96s/it]"
     ]
    },
    {
     "name": "stdout",
     "output_type": "stream",
     "text": [
      "\u001b[1m27/27\u001b[0m \u001b[32m━━━━━━━━━━━━━━━━━━━━\u001b[0m\u001b[37m\u001b[0m \u001b[1m0s\u001b[0m 8ms/step\n"
     ]
    },
    {
     "name": "stderr",
     "output_type": "stream",
     "text": [
      "Cross-Validation:  40%|████      | 4/10 [21:54<32:51, 328.60s/it]"
     ]
    },
    {
     "name": "stdout",
     "output_type": "stream",
     "text": [
      "\u001b[1m27/27\u001b[0m \u001b[32m━━━━━━━━━━━━━━━━━━━━\u001b[0m\u001b[37m\u001b[0m \u001b[1m0s\u001b[0m 8ms/step\n"
     ]
    },
    {
     "name": "stderr",
     "output_type": "stream",
     "text": [
      "Cross-Validation:  50%|█████     | 5/10 [27:53<28:18, 339.71s/it]"
     ]
    },
    {
     "name": "stdout",
     "output_type": "stream",
     "text": [
      "\u001b[1m27/27\u001b[0m \u001b[32m━━━━━━━━━━━━━━━━━━━━\u001b[0m\u001b[37m\u001b[0m \u001b[1m0s\u001b[0m 8ms/step\n"
     ]
    },
    {
     "name": "stderr",
     "output_type": "stream",
     "text": [
      "Cross-Validation:  60%|██████    | 6/10 [33:37<22:44, 341.15s/it]"
     ]
    },
    {
     "name": "stdout",
     "output_type": "stream",
     "text": [
      "\u001b[1m27/27\u001b[0m \u001b[32m━━━━━━━━━━━━━━━━━━━━\u001b[0m\u001b[37m\u001b[0m \u001b[1m1s\u001b[0m 25ms/step\n"
     ]
    },
    {
     "name": "stderr",
     "output_type": "stream",
     "text": [
      "Cross-Validation:  70%|███████   | 7/10 [38:52<16:37, 332.57s/it]"
     ]
    },
    {
     "name": "stdout",
     "output_type": "stream",
     "text": [
      "\u001b[1m27/27\u001b[0m \u001b[32m━━━━━━━━━━━━━━━━━━━━\u001b[0m\u001b[37m\u001b[0m \u001b[1m0s\u001b[0m 9ms/step\n"
     ]
    },
    {
     "name": "stderr",
     "output_type": "stream",
     "text": [
      "Cross-Validation:  80%|████████  | 8/10 [44:50<11:21, 340.80s/it]"
     ]
    },
    {
     "name": "stdout",
     "output_type": "stream",
     "text": [
      "\u001b[1m27/27\u001b[0m \u001b[32m━━━━━━━━━━━━━━━━━━━━\u001b[0m\u001b[37m\u001b[0m \u001b[1m0s\u001b[0m 8ms/step\n"
     ]
    },
    {
     "name": "stderr",
     "output_type": "stream",
     "text": [
      "Cross-Validation:  90%|█████████ | 9/10 [50:59<05:49, 349.53s/it]"
     ]
    },
    {
     "name": "stdout",
     "output_type": "stream",
     "text": [
      "\u001b[1m27/27\u001b[0m \u001b[32m━━━━━━━━━━━━━━━━━━━━\u001b[0m\u001b[37m\u001b[0m \u001b[1m0s\u001b[0m 9ms/step\n"
     ]
    },
    {
     "name": "stderr",
     "output_type": "stream",
     "text": [
      "Cross-Validation: 100%|██████████| 10/10 [56:30<00:00, 339.05s/it]"
     ]
    },
    {
     "name": "stdout",
     "output_type": "stream",
     "text": [
      "1.0356320418401512 0.3767049435146374 0.3250959 -0.19619825098019655 1.192114379976031 0.681505276273945\n"
     ]
    },
    {
     "name": "stderr",
     "output_type": "stream",
     "text": [
      "\n"
     ]
    }
   ],
   "source": [
    "complete_analysis_pipeline(df_9, ' ')"
   ]
  },
  {
   "cell_type": "code",
   "execution_count": 25,
   "metadata": {},
   "outputs": [
    {
     "name": "stderr",
     "output_type": "stream",
     "text": [
      "Cross-Validation:   0%|          | 0/10 [00:00<?, ?it/s]"
     ]
    },
    {
     "name": "stdout",
     "output_type": "stream",
     "text": [
      "\u001b[1m27/27\u001b[0m \u001b[32m━━━━━━━━━━━━━━━━━━━━\u001b[0m\u001b[37m\u001b[0m \u001b[1m0s\u001b[0m 10ms/step\n"
     ]
    },
    {
     "name": "stderr",
     "output_type": "stream",
     "text": [
      "Cross-Validation:  10%|█         | 1/10 [04:56<44:26, 296.25s/it]"
     ]
    },
    {
     "name": "stdout",
     "output_type": "stream",
     "text": [
      "\u001b[1m27/27\u001b[0m \u001b[32m━━━━━━━━━━━━━━━━━━━━\u001b[0m\u001b[37m\u001b[0m \u001b[1m0s\u001b[0m 9ms/step\n"
     ]
    },
    {
     "name": "stderr",
     "output_type": "stream",
     "text": [
      "Cross-Validation:  20%|██        | 2/10 [10:28<42:21, 317.63s/it]"
     ]
    },
    {
     "name": "stdout",
     "output_type": "stream",
     "text": [
      "\u001b[1m27/27\u001b[0m \u001b[32m━━━━━━━━━━━━━━━━━━━━\u001b[0m\u001b[37m\u001b[0m \u001b[1m0s\u001b[0m 11ms/step\n"
     ]
    },
    {
     "name": "stderr",
     "output_type": "stream",
     "text": [
      "Cross-Validation:  30%|███       | 3/10 [16:08<38:12, 327.50s/it]"
     ]
    },
    {
     "name": "stdout",
     "output_type": "stream",
     "text": [
      "\u001b[1m27/27\u001b[0m \u001b[32m━━━━━━━━━━━━━━━━━━━━\u001b[0m\u001b[37m\u001b[0m \u001b[1m0s\u001b[0m 9ms/step\n"
     ]
    },
    {
     "name": "stderr",
     "output_type": "stream",
     "text": [
      "Cross-Validation:  40%|████      | 4/10 [21:30<32:32, 325.40s/it]"
     ]
    },
    {
     "name": "stdout",
     "output_type": "stream",
     "text": [
      "\u001b[1m27/27\u001b[0m \u001b[32m━━━━━━━━━━━━━━━━━━━━\u001b[0m\u001b[37m\u001b[0m \u001b[1m0s\u001b[0m 9ms/step\n"
     ]
    },
    {
     "name": "stderr",
     "output_type": "stream",
     "text": [
      "Cross-Validation:  50%|█████     | 5/10 [27:25<28:00, 336.09s/it]"
     ]
    },
    {
     "name": "stdout",
     "output_type": "stream",
     "text": [
      "\u001b[1m27/27\u001b[0m \u001b[32m━━━━━━━━━━━━━━━━━━━━\u001b[0m\u001b[37m\u001b[0m \u001b[1m0s\u001b[0m 10ms/step\n"
     ]
    },
    {
     "name": "stderr",
     "output_type": "stream",
     "text": [
      "Cross-Validation:  60%|██████    | 6/10 [32:45<22:03, 330.81s/it]"
     ]
    },
    {
     "name": "stdout",
     "output_type": "stream",
     "text": [
      "\u001b[1m27/27\u001b[0m \u001b[32m━━━━━━━━━━━━━━━━━━━━\u001b[0m\u001b[37m\u001b[0m \u001b[1m0s\u001b[0m 9ms/step\n"
     ]
    },
    {
     "name": "stderr",
     "output_type": "stream",
     "text": [
      "Cross-Validation:  70%|███████   | 7/10 [38:27<16:43, 334.40s/it]"
     ]
    },
    {
     "name": "stdout",
     "output_type": "stream",
     "text": [
      "\u001b[1m27/27\u001b[0m \u001b[32m━━━━━━━━━━━━━━━━━━━━\u001b[0m\u001b[37m\u001b[0m \u001b[1m0s\u001b[0m 10ms/step\n"
     ]
    },
    {
     "name": "stderr",
     "output_type": "stream",
     "text": [
      "Cross-Validation:  80%|████████  | 8/10 [43:47<10:59, 329.76s/it]"
     ]
    },
    {
     "name": "stdout",
     "output_type": "stream",
     "text": [
      "\u001b[1m27/27\u001b[0m \u001b[32m━━━━━━━━━━━━━━━━━━━━\u001b[0m\u001b[37m\u001b[0m \u001b[1m0s\u001b[0m 9ms/step\n"
     ]
    },
    {
     "name": "stderr",
     "output_type": "stream",
     "text": [
      "Cross-Validation:  90%|█████████ | 9/10 [49:07<05:26, 326.69s/it]"
     ]
    },
    {
     "name": "stdout",
     "output_type": "stream",
     "text": [
      "\u001b[1m27/27\u001b[0m \u001b[32m━━━━━━━━━━━━━━━━━━━━\u001b[0m\u001b[37m\u001b[0m \u001b[1m0s\u001b[0m 8ms/step\n"
     ]
    },
    {
     "name": "stderr",
     "output_type": "stream",
     "text": [
      "Cross-Validation: 100%|██████████| 10/10 [54:11<00:00, 325.18s/it]"
     ]
    },
    {
     "name": "stdout",
     "output_type": "stream",
     "text": [
      "0.9341481487432233 0.39065902146582093 0.3024761 0.12685495791267504 0.8616286096412369 0.6881723213842322\n"
     ]
    },
    {
     "name": "stderr",
     "output_type": "stream",
     "text": [
      "\n"
     ]
    }
   ],
   "source": [
    "complete_analysis_pipeline(df, ' ')"
   ]
  },
  {
   "cell_type": "markdown",
   "metadata": {},
   "source": [
    "# TAbNEt"
   ]
  },
  {
   "cell_type": "code",
   "execution_count": 28,
   "metadata": {},
   "outputs": [],
   "source": [
    "from pytorch_tabnet.tab_model import TabNetRegressor\n",
    "def cross_validate_with_tabnet(X, y, n_splits=10):\n",
    "    kf = KFold(n_splits=n_splits, shuffle=True, random_state=42)\n",
    "    rmse_scores, mae_scores, variance_scores, r2_scores, pearson_corr_scores, deviations = [], [], [], [], [], []\n",
    "\n",
    "    # Standardize features\n",
    "    scaler_X = StandardScaler()\n",
    "    X_scaled = scaler_X.fit_transform(X)\n",
    "\n",
    "    # Standardize target\n",
    "    scaler_Y = StandardScaler()\n",
    "    y_scaled = scaler_Y.fit_transform(y.reshape(-1, 1))  # Keep y_scaled as 2D\n",
    "\n",
    "    # TabNet parameters\n",
    "    tabnet_params = dict(n_d=64, n_a=64, n_steps=13, optimizer_fn=torch.optim.Adam,\n",
    "                         optimizer_params=dict(lr=2e-2, weight_decay=1e-5),\n",
    "                         mask_type='entmax',\n",
    "                         scheduler_params=dict(mode=\"min\", patience=5, min_lr=1e-5, factor=0.9,),\n",
    "                         scheduler_fn=torch.optim.lr_scheduler.ReduceLROnPlateau,\n",
    "                         verbose=0)\n",
    "\n",
    "    for train_index, test_index in kf.split(X_scaled):\n",
    "        X_train, X_test = X_scaled[train_index], X_scaled[test_index]\n",
    "        y_train, y_test = y_scaled[train_index], y_scaled[test_index]\n",
    "\n",
    "        clf = TabNetRegressor(**tabnet_params)\n",
    "        clf.fit(X_train, y_train, max_epochs=40)\n",
    "\n",
    "        preds = clf.predict(X_test)\n",
    "        preds_unscaled = scaler_Y.inverse_transform(preds).flatten()\n",
    "        y_test_unscaled = scaler_Y.inverse_transform(y_test).flatten()\n",
    "        rmse_scores.append(np.sqrt(mean_squared_error(y_test_unscaled, preds_unscaled)))\n",
    "        mae_scores.append(mean_absolute_error(y_test_unscaled, preds_unscaled))\n",
    "        variance_scores.append(np.var(y_test_unscaled - preds_unscaled))\n",
    "        r2_scores.append(r2_score(y_test_unscaled, preds_unscaled))\n",
    "        pearson_corr_scores.append(pearsonr(y_test_unscaled, preds_unscaled)[0])\n",
    "        deviations.append(mean_deviation_from_true_mean(y_test_unscaled, preds_unscaled))\n",
    "        \n",
    "    # Collect scores\n",
    "    mean_rmse = np.mean(rmse_scores)\n",
    "    mean_mae = np.mean(mae_scores)\n",
    "    mean_variance = np.mean(variance_scores)\n",
    "    mean_r2 = np.mean(r2_scores)\n",
    "    mean_pearson_corr = np.mean(pearson_corr_scores)\n",
    "    mean_deviation = np.mean(deviations)\n",
    "    print(mean_rmse, mean_pearson_corr, mean_deviation, mean_r2, mean_variance, mean_mae)\n",
    "    return mean_rmse, mean_pearson_corr, mean_deviation, mean_r2, mean_variance, mean_mae\n",
    "\n",
    "def complete_analysis_pipeline(df, title):\n",
    "    X, Y_normalized, ss = preprocess_data_manual_no_split(df, use_torch='False')\n",
    "    train_percentage = 0.99\n",
    "    n_samples = len(X)\n",
    "    n_train_samples = int(train_percentage * n_samples)\n",
    "    X_train, Y_train = X[:n_train_samples], Y_normalized[:n_train_samples]\n",
    "    X_blind, Y_blind = X[n_train_samples:], Y_normalized[n_train_samples:]\n",
    "\n",
    "    mean_rmse, mean_pearson_corr, mean_deviation, mean_r2, mean_variance, mean_mae = cross_validate_with_tabnet(X_train, Y_train)\n",
    "    print(mean_rmse, mean_pearson_corr, mean_deviation, mean_r2, mean_variance, mean_mae)\n"
   ]
  },
  {
   "cell_type": "code",
   "execution_count": 30,
   "metadata": {},
   "outputs": [
    {
     "name": "stderr",
     "output_type": "stream",
     "text": [
      "/home/juan/myenv/lib/python3.11/site-packages/pytorch_tabnet/abstract_model.py:687: UserWarning: No early stopping will be performed, last training weights will be used.\n",
      "  warnings.warn(wrn_msg)\n"
     ]
    },
    {
     "name": "stderr",
     "output_type": "stream",
     "text": [
      "/home/juan/myenv/lib/python3.11/site-packages/pytorch_tabnet/abstract_model.py:687: UserWarning: No early stopping will be performed, last training weights will be used.\n",
      "  warnings.warn(wrn_msg)\n",
      "/home/juan/myenv/lib/python3.11/site-packages/pytorch_tabnet/abstract_model.py:687: UserWarning: No early stopping will be performed, last training weights will be used.\n",
      "  warnings.warn(wrn_msg)\n",
      "/home/juan/myenv/lib/python3.11/site-packages/pytorch_tabnet/abstract_model.py:687: UserWarning: No early stopping will be performed, last training weights will be used.\n",
      "  warnings.warn(wrn_msg)\n",
      "/home/juan/myenv/lib/python3.11/site-packages/pytorch_tabnet/abstract_model.py:687: UserWarning: No early stopping will be performed, last training weights will be used.\n",
      "  warnings.warn(wrn_msg)\n"
     ]
    }
   ],
   "source": [
    "complete_analysis_pipeline(df_1, ' ')"
   ]
  },
  {
   "cell_type": "code",
   "execution_count": null,
   "metadata": {},
   "outputs": [],
   "source": [
    "complete_analysis_pipeline(df00, ' ')"
   ]
  },
  {
   "cell_type": "code",
   "execution_count": null,
   "metadata": {},
   "outputs": [],
   "source": [
    "complete_analysis_pipeline(df_9, ' ')"
   ]
  },
  {
   "cell_type": "code",
   "execution_count": null,
   "metadata": {},
   "outputs": [],
   "source": [
    "complete_analysis_pipeline(df, ' ')"
   ]
  }
 ],
 "metadata": {
  "kernelspec": {
   "display_name": "myenv",
   "language": "python",
   "name": "python3"
  },
  "language_info": {
   "codemirror_mode": {
    "name": "ipython",
    "version": 3
   },
   "file_extension": ".py",
   "mimetype": "text/x-python",
   "name": "python",
   "nbconvert_exporter": "python",
   "pygments_lexer": "ipython3",
   "version": "3.12.1"
  }
 },
 "nbformat": 4,
 "nbformat_minor": 2
}
